{
 "cells": [
  {
   "attachments": {},
   "cell_type": "markdown",
   "metadata": {},
   "source": [
    "Let's create a custom range() function using generator, which returns a generator object.\n",
    "- Create a list using the generator\n",
    "- Can you use next() with a generator?\n",
    "- How about an iterator?"
   ]
  },
  {
   "cell_type": "code",
   "execution_count": 1,
   "metadata": {},
   "outputs": [],
   "source": [
    "min_num = 0\n",
    "max_num = 5"
   ]
  },
  {
   "cell_type": "code",
   "execution_count": 2,
   "metadata": {},
   "outputs": [],
   "source": [
    "def range(min_num, max_num):\n",
    "    while min_num < max_num:\n",
    "        yield min_num\n",
    "        min_num += 1"
   ]
  },
  {
   "cell_type": "code",
   "execution_count": 3,
   "metadata": {},
   "outputs": [
    {
     "name": "stdout",
     "output_type": "stream",
     "text": [
      "<class 'generator'>\n",
      "<generator object range at 0x103edd080>\n",
      "0\n",
      "1\n",
      "2\n",
      "3\n",
      "4\n"
     ]
    },
    {
     "ename": "StopIteration",
     "evalue": "",
     "output_type": "error",
     "traceback": [
      "\u001b[0;31m---------------------------------------------------------------------------\u001b[0m",
      "\u001b[0;31mStopIteration\u001b[0m                             Traceback (most recent call last)",
      "Cell \u001b[0;32mIn[3], line 10\u001b[0m\n\u001b[1;32m      8\u001b[0m \u001b[39mprint\u001b[39m(\u001b[39mnext\u001b[39m(generator_range))\n\u001b[1;32m      9\u001b[0m \u001b[39mprint\u001b[39m(\u001b[39mnext\u001b[39m(generator_range))\n\u001b[0;32m---> 10\u001b[0m \u001b[39mprint\u001b[39m(\u001b[39mnext\u001b[39m(generator_range))\n",
      "\u001b[0;31mStopIteration\u001b[0m: "
     ]
    }
   ],
   "source": [
    "generator_range = range(min_num, max_num)\n",
    "print(type(generator_range))\n",
    "print(generator_range)\n",
    "print(next(generator_range))\n",
    "#print(list(generator_range)) # what happens if this line is uncommented?\n",
    "print(next(generator_range))\n",
    "print(next(generator_range))\n",
    "print(next(generator_range))\n",
    "print(next(generator_range))\n",
    "print(next(generator_range))"
   ]
  },
  {
   "cell_type": "code",
   "execution_count": null,
   "metadata": {},
   "outputs": [
    {
     "name": "stdout",
     "output_type": "stream",
     "text": [
      "<class 'list'>\n",
      "[]\n"
     ]
    }
   ],
   "source": [
    "list_range = list(generator_range)\n",
    "print(type(list_range))\n",
    "print(list_range)"
   ]
  },
  {
   "cell_type": "code",
   "execution_count": null,
   "metadata": {},
   "outputs": [
    {
     "name": "stdout",
     "output_type": "stream",
     "text": [
      "<class 'list_iterator'>\n",
      "<list_iterator object at 0x1061bd5a0>\n"
     ]
    },
    {
     "ename": "StopIteration",
     "evalue": "",
     "output_type": "error",
     "traceback": [
      "\u001b[0;31m---------------------------------------------------------------------------\u001b[0m",
      "\u001b[0;31mStopIteration\u001b[0m                             Traceback (most recent call last)",
      "Cell \u001b[0;32mIn[43], line 4\u001b[0m\n\u001b[1;32m      2\u001b[0m \u001b[39mprint\u001b[39m(\u001b[39mtype\u001b[39m(iter_list_range))\n\u001b[1;32m      3\u001b[0m \u001b[39mprint\u001b[39m(iter_list_range)\n\u001b[0;32m----> 4\u001b[0m \u001b[39mprint\u001b[39m(\u001b[39mnext\u001b[39m(iter_list_range))\n\u001b[1;32m      5\u001b[0m \u001b[39mprint\u001b[39m(\u001b[39mnext\u001b[39m(iter_list_range))\n\u001b[1;32m      6\u001b[0m \u001b[39mprint\u001b[39m(\u001b[39mnext\u001b[39m(iter_list_range))\n",
      "\u001b[0;31mStopIteration\u001b[0m: "
     ]
    }
   ],
   "source": [
    "iter_list_range = iter(list_range)\n",
    "print(type(iter_list_range))\n",
    "print(iter_list_range)\n",
    "print(next(iter_list_range))\n",
    "print(next(iter_list_range))\n",
    "print(next(iter_list_range))\n",
    "print(next(iter_list_range))\n",
    "print(next(iter_list_range))\n",
    "print(next(iter_list_range))"
   ]
  },
  {
   "cell_type": "code",
   "execution_count": null,
   "metadata": {},
   "outputs": [],
   "source": []
  }
 ],
 "metadata": {
  "kernelspec": {
   "display_name": "base",
   "language": "python",
   "name": "python3"
  },
  "language_info": {
   "codemirror_mode": {
    "name": "ipython",
    "version": 3
   },
   "file_extension": ".py",
   "mimetype": "text/x-python",
   "name": "python",
   "nbconvert_exporter": "python",
   "pygments_lexer": "ipython3",
   "version": "3.11.3"
  },
  "orig_nbformat": 4
 },
 "nbformat": 4,
 "nbformat_minor": 2
}
