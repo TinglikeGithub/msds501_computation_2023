{
 "cells": [
  {
   "attachments": {},
   "cell_type": "markdown",
   "metadata": {},
   "source": [
    "Given nums, a sorted list of integers, complete remove_duplicates() which returns a sorted array without any duplicates by removing them in place.\n",
    "- Ex. nums = [1, 1, 2], remove_duplicates(nums) should changes nums to [1,2]"
   ]
  },
  {
   "cell_type": "code",
   "execution_count": 1,
   "metadata": {},
   "outputs": [],
   "source": [
    "def remove_duplicates(nums):\n",
    "    nums_len = len(nums)\n",
    "    i = 0\n",
    "    while(i < nums_len-1):\n",
    "        if(nums[i] == nums[i+1]):\n",
    "            nums.pop(i+1)\n",
    "            nums_len -= 1\n",
    "            \n",
    "        else:\n",
    "            i+=1\n",
    "            "
   ]
  },
  {
   "cell_type": "code",
   "execution_count": 3,
   "metadata": {},
   "outputs": [
    {
     "data": {
      "text/plain": [
       "[0, 1, 2, 3]"
      ]
     },
     "execution_count": 3,
     "metadata": {},
     "output_type": "execute_result"
    }
   ],
   "source": [
    "nums = [0, 0, 0, 1, 1, 2, 2, 3, 3]\n",
    "remove_duplicates(nums)\n",
    "nums"
   ]
  }
 ],
 "metadata": {
  "kernelspec": {
   "display_name": "base",
   "language": "python",
   "name": "python3"
  },
  "language_info": {
   "codemirror_mode": {
    "name": "ipython",
    "version": 3
   },
   "file_extension": ".py",
   "mimetype": "text/x-python",
   "name": "python",
   "nbconvert_exporter": "python",
   "pygments_lexer": "ipython3",
   "version": "3.11.3"
  },
  "orig_nbformat": 4
 },
 "nbformat": 4,
 "nbformat_minor": 2
}
