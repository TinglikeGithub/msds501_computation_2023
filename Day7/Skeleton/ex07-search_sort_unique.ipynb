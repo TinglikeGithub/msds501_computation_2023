{
 "cells": [
  {
   "cell_type": "code",
   "execution_count": null,
   "id": "8ea18a71-068e-4e65-a7f3-9b8b7e508d32",
   "metadata": {},
   "outputs": [],
   "source": [
    "import numpy as np"
   ]
  },
  {
   "attachments": {},
   "cell_type": "markdown",
   "id": "f298fe87",
   "metadata": {},
   "source": [
    "- Search"
   ]
  },
  {
   "cell_type": "code",
   "execution_count": null,
   "id": "6d0c2622-8345-4a43-94af-aae798bc512f",
   "metadata": {},
   "outputs": [],
   "source": [
    "nums = np.array(range(10))"
   ]
  },
  {
   "cell_type": "code",
   "execution_count": null,
   "id": "a12e5bec-2b8b-4fd9-a279-e9b2f823a898",
   "metadata": {},
   "outputs": [],
   "source": []
  },
  {
   "cell_type": "code",
   "execution_count": null,
   "id": "470ee032",
   "metadata": {},
   "outputs": [],
   "source": [
    "nums"
   ]
  },
  {
   "attachments": {},
   "cell_type": "markdown",
   "id": "c3da75c8",
   "metadata": {},
   "source": [
    "- Sort"
   ]
  },
  {
   "cell_type": "code",
   "execution_count": null,
   "id": "a1c5edf1-6e0c-42c3-a1ac-1a9587ea10fe",
   "metadata": {},
   "outputs": [],
   "source": [
    "array = np.array([[1, 1, 2, 2],\n",
    "                  [2, 2, 3, 3],\n",
    "                  [2, 2, 1, 1]])"
   ]
  },
  {
   "cell_type": "code",
   "execution_count": null,
   "id": "b9630d08",
   "metadata": {},
   "outputs": [],
   "source": []
  },
  {
   "attachments": {},
   "cell_type": "markdown",
   "id": "1f322568",
   "metadata": {},
   "source": [
    "- Unique"
   ]
  },
  {
   "cell_type": "code",
   "execution_count": null,
   "id": "e4ffb641",
   "metadata": {},
   "outputs": [],
   "source": []
  }
 ],
 "metadata": {
  "kernelspec": {
   "display_name": "Python 3 (ipykernel)",
   "language": "python",
   "name": "python3"
  },
  "language_info": {
   "codemirror_mode": {
    "name": "ipython",
    "version": 3
   },
   "file_extension": ".py",
   "mimetype": "text/x-python",
   "name": "python",
   "nbconvert_exporter": "python",
   "pygments_lexer": "ipython3",
   "version": "3.11.3"
  },
  "varInspector": {
   "cols": {
    "lenName": 16,
    "lenType": 16,
    "lenVar": 40
   },
   "kernels_config": {
    "python": {
     "delete_cmd_postfix": "",
     "delete_cmd_prefix": "del ",
     "library": "var_list.py",
     "varRefreshCmd": "print(var_dic_list())"
    },
    "r": {
     "delete_cmd_postfix": ") ",
     "delete_cmd_prefix": "rm(",
     "library": "var_list.r",
     "varRefreshCmd": "cat(var_dic_list()) "
    }
   },
   "types_to_exclude": [
    "module",
    "function",
    "builtin_function_or_method",
    "instance",
    "_Feature"
   ],
   "window_display": false
  }
 },
 "nbformat": 4,
 "nbformat_minor": 5
}
