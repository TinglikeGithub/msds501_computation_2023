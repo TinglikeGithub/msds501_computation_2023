{
 "cells": [
  {
   "attachments": {},
   "cell_type": "markdown",
   "metadata": {},
   "source": [
    "Given a 2D integer array matrix, return the transpose of matrix.\n",
    "- The transpose of a matrix is the matrix flipped over its main diagonal, switching the matrix's row and column indices.\n",
    "- Ex.\n",
    "```\n",
    "matrix = [[1,2,3],[4,5,6],[7,8,9]]\n",
    "transpose(matrix) == [[1,4,7],[2,5,8],[3,6,9]]\n",
    "```"
   ]
  },
  {
   "cell_type": "code",
   "execution_count": null,
   "metadata": {},
   "outputs": [],
   "source": [
    "def transpose(matrix: list[list[int]]) -> list[list[int]]:\n",
    "    row_ct = len(matrix)\n",
    "    col_ct = len(matrix[0])\n",
    "    output = list()\n",
    "    \n",
    "    for i in range(col_ct):\n",
    "        row = list()\n",
    "        for j in range(row_ct):\n",
    "            row.append(matrix[j][i])\n",
    "        output.append(row)\n",
    "    return output"
   ]
  },
  {
   "cell_type": "code",
   "execution_count": null,
   "metadata": {},
   "outputs": [],
   "source": [
    "matrix = [[1,2,3],[4,5,6],[7,8,9]]\n",
    "transpose(matrix) == [[1,4,7],[2,5,8],[3,6,9]]"
   ]
  },
  {
   "cell_type": "code",
   "execution_count": null,
   "metadata": {},
   "outputs": [],
   "source": []
  }
 ],
 "metadata": {
  "kernelspec": {
   "display_name": "base",
   "language": "python",
   "name": "python3"
  },
  "language_info": {
   "codemirror_mode": {
    "name": "ipython",
    "version": 3
   },
   "file_extension": ".py",
   "mimetype": "text/x-python",
   "name": "python",
   "nbconvert_exporter": "python",
   "pygments_lexer": "ipython3",
   "version": "3.11.3"
  },
  "orig_nbformat": 4
 },
 "nbformat": 4,
 "nbformat_minor": 2
}
