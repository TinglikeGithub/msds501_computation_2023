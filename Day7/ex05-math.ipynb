{
 "cells": [
  {
   "cell_type": "code",
   "execution_count": 1,
   "id": "2feee104-8994-438c-8ff0-f7995c603fde",
   "metadata": {},
   "outputs": [],
   "source": [
    "import numpy as np"
   ]
  },
  {
   "cell_type": "code",
   "execution_count": 2,
   "id": "79bd7edb-3bed-4811-a083-3d19d4ce5c06",
   "metadata": {},
   "outputs": [],
   "source": [
    "arr_1 = np.array([1, 2, 3])\n",
    "arr_2 = np.array([-1, 5, 6])"
   ]
  },
  {
   "cell_type": "code",
   "execution_count": 4,
   "id": "934fa976",
   "metadata": {},
   "outputs": [
    {
     "name": "stdout",
     "output_type": "stream",
     "text": [
      "[ 2.71828183  7.3890561  20.08553692]\n",
      "[0.         0.69314718 1.09861229]\n"
     ]
    }
   ],
   "source": [
    "print(np.exp(arr_1))\n",
    "print(np.log(arr_1))"
   ]
  },
  {
   "cell_type": "code",
   "execution_count": 7,
   "id": "5413ad2a",
   "metadata": {},
   "outputs": [
    {
     "name": "stdout",
     "output_type": "stream",
     "text": [
      "[1. 2. 3.]\n",
      "[1. 2. 3.]\n",
      "[1 2 3]\n"
     ]
    }
   ],
   "source": [
    "print(np.ceil(arr_1))\n",
    "print(np.floor(arr_1))\n",
    "print(np.around(arr_1))"
   ]
  },
  {
   "cell_type": "code",
   "execution_count": 10,
   "id": "44136168",
   "metadata": {},
   "outputs": [
    {
     "name": "stdout",
     "output_type": "stream",
     "text": [
      "1\n",
      "3\n",
      "6\n",
      "2.0\n",
      "0.816496580927726\n",
      "0\n",
      "2\n"
     ]
    }
   ],
   "source": [
    "print(np.min(arr_1))\n",
    "print(np.max(arr_1))\n",
    "print(np.sum(arr_1))\n",
    "print(np.mean(arr_1))\n",
    "print(np.std(arr_1))\n",
    "print(np.argmin(arr_1))\n",
    "print(np.argmax(arr_1))"
   ]
  },
  {
   "cell_type": "code",
   "execution_count": 3,
   "id": "49097103-49c8-4710-94ce-cb241c73cdb9",
   "metadata": {},
   "outputs": [
    {
     "data": {
      "text/plain": [
       "array([[ 1.        ,  3.5       ],\n",
       "       [ 3.5       , 14.33333333]])"
      ]
     },
     "execution_count": 3,
     "metadata": {},
     "output_type": "execute_result"
    }
   ],
   "source": [
    "np.cov(arr_1, arr_2)"
   ]
  },
  {
   "cell_type": "code",
   "execution_count": 5,
   "id": "63196d8a-4ffa-4452-8c5b-5b59e44dd4f1",
   "metadata": {},
   "outputs": [
    {
     "data": {
      "text/plain": [
       "(array([3, 3, 4]), array([ 1.,  4.,  7., 10.]))"
      ]
     },
     "execution_count": 5,
     "metadata": {},
     "output_type": "execute_result"
    }
   ],
   "source": [
    "arr = np.array([1, 2, 3, 4, 5, 6, 7, 8, 9, 10])\n",
    "np.histogram(arr, 3)"
   ]
  },
  {
   "cell_type": "code",
   "execution_count": 6,
   "id": "737a6d27-307b-4602-83e0-a990a600024c",
   "metadata": {},
   "outputs": [
    {
     "data": {
      "text/plain": [
       "array([1.9, 9.1])"
      ]
     },
     "execution_count": 6,
     "metadata": {},
     "output_type": "execute_result"
    }
   ],
   "source": [
    "np.percentile(arr, [10, 90])"
   ]
  },
  {
   "cell_type": "code",
   "execution_count": 12,
   "id": "04f87d32-f2f1-4856-a8c4-54d2d03926f3",
   "metadata": {},
   "outputs": [
    {
     "name": "stdout",
     "output_type": "stream",
     "text": [
      "[0 7 9]\n",
      "[ 2 -3 -3]\n",
      "[-1 10 18]\n",
      "[-1.   0.4  0.5]\n"
     ]
    }
   ],
   "source": [
    "print(np.add(arr_1, arr_2))\n",
    "print(np.subtract(arr_1, arr_2))\n",
    "print(np.multiply(arr_1, arr_2))\n",
    "print(np.divide(arr_1, arr_2))"
   ]
  },
  {
   "cell_type": "code",
   "execution_count": 13,
   "id": "4643bb73",
   "metadata": {},
   "outputs": [
    {
     "name": "stdout",
     "output_type": "stream",
     "text": [
      "[-1  2  3]\n",
      "[1 5 6]\n"
     ]
    }
   ],
   "source": [
    "print(np.minimum(arr_1, arr_2))\n",
    "print(np.maximum(arr_1, arr_2))"
   ]
  },
  {
   "cell_type": "code",
   "execution_count": null,
   "id": "6e341b73",
   "metadata": {},
   "outputs": [],
   "source": []
  }
 ],
 "metadata": {
  "kernelspec": {
   "display_name": "Python 3 (ipykernel)",
   "language": "python",
   "name": "python3"
  },
  "language_info": {
   "codemirror_mode": {
    "name": "ipython",
    "version": 3
   },
   "file_extension": ".py",
   "mimetype": "text/x-python",
   "name": "python",
   "nbconvert_exporter": "python",
   "pygments_lexer": "ipython3",
   "version": "3.11.3"
  },
  "varInspector": {
   "cols": {
    "lenName": 16,
    "lenType": 16,
    "lenVar": 40
   },
   "kernels_config": {
    "python": {
     "delete_cmd_postfix": "",
     "delete_cmd_prefix": "del ",
     "library": "var_list.py",
     "varRefreshCmd": "print(var_dic_list())"
    },
    "r": {
     "delete_cmd_postfix": ") ",
     "delete_cmd_prefix": "rm(",
     "library": "var_list.r",
     "varRefreshCmd": "cat(var_dic_list()) "
    }
   },
   "types_to_exclude": [
    "module",
    "function",
    "builtin_function_or_method",
    "instance",
    "_Feature"
   ],
   "window_display": false
  }
 },
 "nbformat": 4,
 "nbformat_minor": 5
}
