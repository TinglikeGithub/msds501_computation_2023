{
 "cells": [
  {
   "attachments": {},
   "cell_type": "markdown",
   "metadata": {},
   "source": [
    "Given a string s and an integer k, reverse the first k characters for every 2k characters counting from the start of the string.\n",
    "- If there are fewer than k characters left, reverse all of them. \n",
    "- If there are less than 2k but greater than or equal to k characters, then reverse the first k characters and leave the other as original.\n",
    "- Ex.\n",
    "   \n",
    "   ----\n",
    "   ```\n",
    "   s = \"abcdefg\"\n",
    "   \n",
    "   k = 2\n",
    "   \n",
    "   reverse_str(s,k) == 'bacdfeg'\n",
    "   ```\n",
    "   -----\n",
    "   ```\n",
    "   s = \"abcd\" \n",
    "   \n",
    "   k = 2\n",
    "   \n",
    "   reverse_str(s,k) == 'bacd'\n",
    "   ```"
   ]
  },
  {
   "cell_type": "code",
   "execution_count": null,
   "metadata": {},
   "outputs": [],
   "source": [
    "def reverse_str(s: str, k: int) -> str:\n",
    "        "
   ]
  },
  {
   "cell_type": "code",
   "execution_count": null,
   "metadata": {},
   "outputs": [],
   "source": [
    "s = \"abcdefg\"\n",
    "k = 3\n",
    "reverse_str(s,k)"
   ]
  },
  {
   "cell_type": "code",
   "execution_count": null,
   "metadata": {},
   "outputs": [],
   "source": [
    "s = \"abcd\" \n",
    "k = 2\n",
    "reverse_str(s,k)"
   ]
  },
  {
   "cell_type": "code",
   "execution_count": null,
   "metadata": {},
   "outputs": [],
   "source": []
  }
 ],
 "metadata": {
  "kernelspec": {
   "display_name": "base",
   "language": "python",
   "name": "python3"
  },
  "language_info": {
   "codemirror_mode": {
    "name": "ipython",
    "version": 3
   },
   "file_extension": ".py",
   "mimetype": "text/x-python",
   "name": "python",
   "nbconvert_exporter": "python",
   "pygments_lexer": "ipython3",
   "version": "3.11.3"
  },
  "orig_nbformat": 4
 },
 "nbformat": 4,
 "nbformat_minor": 2
}
