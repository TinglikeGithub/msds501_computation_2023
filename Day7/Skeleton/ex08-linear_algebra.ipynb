{
 "cells": [
  {
   "cell_type": "code",
   "execution_count": null,
   "id": "38495287-84d8-4af9-8b39-c364f36048f9",
   "metadata": {
    "tags": []
   },
   "outputs": [],
   "source": [
    "import numpy as np"
   ]
  },
  {
   "cell_type": "code",
   "execution_count": null,
   "id": "87c8992b-cc49-49f6-9286-acdc8b754219",
   "metadata": {},
   "outputs": [],
   "source": [
    "array_1 = np.array([[1, 2, 3], [4, 5, 6], [7, 8, 9]])\n",
    "array_2 = np.array([[1, 2], [3, 4], [5, 6]])"
   ]
  },
  {
   "attachments": {},
   "cell_type": "markdown",
   "id": "1c6d4809-bcbd-4705-86f7-9c3631670f37",
   "metadata": {
    "jp-MarkdownHeadingCollapsed": true,
    "tags": []
   },
   "source": [
    "### Linear Algebra\n",
    "For array_1, \n",
    "- try matrix multiplication with array_2.\n",
    "- calculate determinant, eigen value/vector, inverse matrix, and SVD"
   ]
  },
  {
   "cell_type": "code",
   "execution_count": null,
   "id": "bfb848f6-103e-427f-9746-02f4c024f2e7",
   "metadata": {},
   "outputs": [],
   "source": []
  },
  {
   "cell_type": "code",
   "execution_count": null,
   "id": "01055835-2652-46fb-820e-2f9297178d17",
   "metadata": {},
   "outputs": [],
   "source": []
  },
  {
   "cell_type": "code",
   "execution_count": null,
   "id": "81da2099-d978-49fc-992a-d44079c8c0d7",
   "metadata": {},
   "outputs": [],
   "source": []
  },
  {
   "cell_type": "code",
   "execution_count": null,
   "id": "84a5a206-9417-4f31-a3ee-3e7e8a0c89e0",
   "metadata": {},
   "outputs": [],
   "source": []
  }
 ],
 "metadata": {
  "kernelspec": {
   "display_name": "Python 3 (ipykernel)",
   "language": "python",
   "name": "python3"
  },
  "language_info": {
   "codemirror_mode": {
    "name": "ipython",
    "version": 3
   },
   "file_extension": ".py",
   "mimetype": "text/x-python",
   "name": "python",
   "nbconvert_exporter": "python",
   "pygments_lexer": "ipython3",
   "version": "3.11.3"
  },
  "toc-autonumbering": false,
  "toc-showcode": true,
  "toc-showmarkdowntxt": false,
  "toc-showtags": false,
  "varInspector": {
   "cols": {
    "lenName": 16,
    "lenType": 16,
    "lenVar": 40
   },
   "kernels_config": {
    "python": {
     "delete_cmd_postfix": "",
     "delete_cmd_prefix": "del ",
     "library": "var_list.py",
     "varRefreshCmd": "print(var_dic_list())"
    },
    "r": {
     "delete_cmd_postfix": ") ",
     "delete_cmd_prefix": "rm(",
     "library": "var_list.r",
     "varRefreshCmd": "cat(var_dic_list()) "
    }
   },
   "types_to_exclude": [
    "module",
    "function",
    "builtin_function_or_method",
    "instance",
    "_Feature"
   ],
   "window_display": false
  }
 },
 "nbformat": 4,
 "nbformat_minor": 5
}
