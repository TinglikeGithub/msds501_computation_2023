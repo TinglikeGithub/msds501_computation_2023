{
 "cells": [
  {
   "attachments": {},
   "cell_type": "markdown",
   "metadata": {},
   "source": [
    "Create a pickle file called countries.pickle by converting countries.tsv under /Data/Pickle\n",
    "- Each line should be converted to an array of 4 elements (initial, name, lon, lat)\n",
    "- The code should convert the 3rd and 4th to float in the array.\n",
    "- if Data/Pickle doesn't exist, you need to create one"
   ]
  },
  {
   "cell_type": "code",
   "execution_count": 2,
   "metadata": {},
   "outputs": [],
   "source": [
    "import csv\n",
    "import os\n",
    "import pickle"
   ]
  },
  {
   "cell_type": "code",
   "execution_count": 19,
   "metadata": {},
   "outputs": [],
   "source": [
    "def convert_to_pickle(tsv_path, pickle_folder, pickle_file_name):\n",
    "    with open(tsv_path, 'r') as tsv:\n",
    "        tsv_content = csv.reader(tsv, delimiter='\\t')\n",
    "        obj = [[elem[0],elem[1], float(elem[2]), float(elem[3])]  \n",
    "                for elem in tsv_content]\n",
    "        if not os.path.exists(pickle_folder):\n",
    "            os.mkdir(pickle_folder)\n",
    "        pickle_path = pickle_folder + pickle_file_name\n",
    "        with open(pickle_path, 'wb') as pickle_file:\n",
    "            pickle.dump(obj, pickle_file)"
   ]
  },
  {
   "cell_type": "code",
   "execution_count": 20,
   "metadata": {},
   "outputs": [],
   "source": [
    "tsv_path = \"../Data/countries.tsv\"\n",
    "pickle_folder = \"../Data/Pickle/\"\n",
    "pickle_file_name = \"countries.pickle\"\n",
    "convert_to_pickle(tsv_path, pickle_folder, pickle_file_name)"
   ]
  },
  {
   "cell_type": "code",
   "execution_count": 32,
   "metadata": {},
   "outputs": [],
   "source": [
    "def load_pickle(pickle_folder, pickle_file_name):\n",
    "    pickle_path = pickle_folder + pickle_file_name\n",
    "    with open(pickle_path, 'rb') as pickle_file:\n",
    "        return pickle.load(pickle_file)"
   ]
  },
  {
   "cell_type": "code",
   "execution_count": 33,
   "metadata": {},
   "outputs": [
    {
     "data": {
      "text/plain": [
       "[['AD', 'Andorra', 42.5, 1.5],\n",
       " ['AE', 'United Arab Emirates', 24.0, 54.0],\n",
       " ['AF', 'Afghanistan', 33.0, 65.0],\n",
       " ['AG', 'Antigua and Barbuda', 17.05, -61.8],\n",
       " ['AI', 'Anguilla', 18.25, -63.17],\n",
       " ['AL', 'Albania', 41.0, 20.0],\n",
       " ['AM', 'Armenia', 40.0, 45.0],\n",
       " ['AN', 'Netherlands Antilles', 12.25, -68.75],\n",
       " ['AO', 'Angola', -12.5, 18.5],\n",
       " ['AP', 'Asia/Pacific Region', 35.0, 105.0],\n",
       " ['AQ', 'Antarctica', -90.0, 0.0],\n",
       " ['AR', 'Argentina', -34.0, -64.0],\n",
       " ['AS', 'American Samoa', -14.33, -170.0],\n",
       " ['AT', 'Austria', 47.33, 13.33],\n",
       " ['AU', 'Australia', -27.0, 133.0],\n",
       " ['AW', 'Aruba', 12.5, -69.97],\n",
       " ['AZ', 'Azerbaijan', 40.5, 47.5],\n",
       " ['BA', 'Bosnia and Herzegovina', 44.0, 18.0],\n",
       " ['BB', 'Barbados', 13.17, -59.53],\n",
       " ['BD', 'Bangladesh', 24.0, 90.0],\n",
       " ['BE', 'Belgium', 50.83, 4.0],\n",
       " ['BF', 'Burkina Faso', 13.0, -2.0],\n",
       " ['BG', 'Bulgaria', 43.0, 25.0],\n",
       " ['BH', 'Bahrain', 26.0, 50.55],\n",
       " ['BI', 'Burundi', -3.5, 30.0],\n",
       " ['BJ', 'Benin', 9.5, 2.25],\n",
       " ['BM', 'Bermuda', 32.33, -64.75],\n",
       " ['BN', 'Brunei Darussalam', 4.5, 114.67],\n",
       " ['BO', 'Bolivia', -17.0, -65.0],\n",
       " ['BR', 'Brazil', -10.0, -55.0],\n",
       " ['BS', 'Bahamas', 24.25, -76.0],\n",
       " ['BT', 'Bhutan', 27.5, 90.5],\n",
       " ['BV', 'Bouvet Island', -54.43, 3.4],\n",
       " ['BW', 'Botswana', -22.0, 24.0],\n",
       " ['BY', 'Belarus', 53.0, 28.0],\n",
       " ['BZ', 'Belize', 17.25, -88.75],\n",
       " ['CA', 'Canada', 60.0, -95.0],\n",
       " ['CC', 'Cocos (Keeling) Islands', -12.5, 96.83],\n",
       " ['CD', 'Congo, The Democratic Republic of the', 0.0, 25.0],\n",
       " ['CF', 'Central African Republic', 7.0, 21.0],\n",
       " ['CG', 'Congo', -1.0, 15.0],\n",
       " ['CH', 'Switzerland', 47.0, 8.0],\n",
       " ['CI', \"Cote d'Ivoire\", 8.0, -5.0],\n",
       " ['CK', 'Cook Islands', -21.23, -159.77],\n",
       " ['CL', 'Chile', -30.0, -71.0],\n",
       " ['CM', 'Cameroon', 6.0, 12.0],\n",
       " ['CN', 'China', 35.0, 105.0],\n",
       " ['CO', 'Colombia', 4.0, -72.0],\n",
       " ['CR', 'Costa Rica', 10.0, -84.0],\n",
       " ['CU', 'Cuba', 21.5, -80.0],\n",
       " ['CV', 'Cape Verde', 16.0, -24.0],\n",
       " ['CX', 'Christmas Island', -10.5, 105.67],\n",
       " ['CY', 'Cyprus', 35.0, 33.0],\n",
       " ['CZ', 'Czech Republic', 49.75, 15.5],\n",
       " ['DE', 'Germany', 51.0, 9.0],\n",
       " ['DJ', 'Djibouti', 11.5, 43.0],\n",
       " ['DK', 'Denmark', 56.0, 10.0],\n",
       " ['DM', 'Dominica', 15.42, -61.33],\n",
       " ['DO', 'Dominican Republic', 19.0, -70.67],\n",
       " ['DZ', 'Algeria', 28.0, 3.0],\n",
       " ['EC', 'Ecuador', -2.0, -77.5],\n",
       " ['EE', 'Estonia', 59.0, 26.0],\n",
       " ['EG', 'Egypt', 27.0, 30.0],\n",
       " ['EH', 'Western Sahara', 24.5, -13.0],\n",
       " ['ER', 'Eritrea', 15.0, 39.0],\n",
       " ['ES', 'Spain', 40.0, -4.0],\n",
       " ['ET', 'Ethiopia', 8.0, 38.0],\n",
       " ['EU', 'Europe', 47.0, 8.0],\n",
       " ['FI', 'Finland', 64.0, 26.0],\n",
       " ['FJ', 'Fiji', -18.0, 175.0],\n",
       " ['FK', 'Falkland Islands (Malvinas)', -51.75, -59.0],\n",
       " ['FM', 'Micronesia, Federated States of', 6.92, 158.25],\n",
       " ['FO', 'Faroe Islands', 62.0, -7.0],\n",
       " ['FR', 'France', 46.0, 2.0]]"
      ]
     },
     "execution_count": 33,
     "metadata": {},
     "output_type": "execute_result"
    }
   ],
   "source": [
    "load_pickle(pickle_folder, pickle_file_name)"
   ]
  },
  {
   "cell_type": "code",
   "execution_count": null,
   "metadata": {},
   "outputs": [],
   "source": []
  }
 ],
 "metadata": {
  "kernelspec": {
   "display_name": "base",
   "language": "python",
   "name": "python3"
  },
  "language_info": {
   "codemirror_mode": {
    "name": "ipython",
    "version": 3
   },
   "file_extension": ".py",
   "mimetype": "text/x-python",
   "name": "python",
   "nbconvert_exporter": "python",
   "pygments_lexer": "ipython3",
   "version": "3.11.3"
  },
  "orig_nbformat": 4
 },
 "nbformat": 4,
 "nbformat_minor": 2
}
