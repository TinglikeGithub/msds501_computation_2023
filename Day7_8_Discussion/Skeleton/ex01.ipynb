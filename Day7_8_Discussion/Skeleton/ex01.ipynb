{
 "cells": [
  {
   "cell_type": "code",
   "execution_count": 1,
   "metadata": {},
   "outputs": [],
   "source": [
    "import numpy as np"
   ]
  },
  {
   "cell_type": "code",
   "execution_count": 2,
   "metadata": {},
   "outputs": [],
   "source": [
    "file_name = '../Data/numbers.txt'"
   ]
  },
  {
   "cell_type": "code",
   "execution_count": 3,
   "metadata": {},
   "outputs": [],
   "source": [
    "def filtered_rows_sum(file_name):\n",
    "    \"\"\"\n",
    "    Create filtered_rows_sum() which takes file_name and \n",
    "    filter rows where the 1st column value is more than twice bigger than the second column value.\n",
    "    The function should return the sum of both columns in an array.\n",
    "    Note: You can assume that the file_name always contains two columns and\n",
    "    data are only integers separated by comma.\n",
    "    Ex. filtered_rows_sum('../Data/numbers.txt') returns [[83], [89], [79], ...]\n",
    "    \"\"\"\n",
    "   "
   ]
  },
  {
   "cell_type": "code",
   "execution_count": 4,
   "metadata": {},
   "outputs": [
    {
     "data": {
      "text/plain": [
       "array([[ 83],\n",
       "       [ 89],\n",
       "       [ 79],\n",
       "       [ 82],\n",
       "       [ 38],\n",
       "       [111],\n",
       "       [ 41],\n",
       "       [107],\n",
       "       [ 26],\n",
       "       [ 48],\n",
       "       [ 84],\n",
       "       [111],\n",
       "       [108],\n",
       "       [ 46],\n",
       "       [129],\n",
       "       [104],\n",
       "       [107],\n",
       "       [ 52],\n",
       "       [112],\n",
       "       [ 91],\n",
       "       [ 68],\n",
       "       [109],\n",
       "       [ 63],\n",
       "       [ 88],\n",
       "       [ 37],\n",
       "       [ 60],\n",
       "       [ 71],\n",
       "       [ 89],\n",
       "       [ 80]], dtype=int32)"
      ]
     },
     "execution_count": 4,
     "metadata": {},
     "output_type": "execute_result"
    }
   ],
   "source": [
    "filtered_rows_sum(file_name)"
   ]
  }
 ],
 "metadata": {
  "kernelspec": {
   "display_name": "base",
   "language": "python",
   "name": "python3"
  },
  "language_info": {
   "codemirror_mode": {
    "name": "ipython",
    "version": 3
   },
   "file_extension": ".py",
   "mimetype": "text/x-python",
   "name": "python",
   "nbconvert_exporter": "python",
   "pygments_lexer": "ipython3",
   "version": "3.11.3"
  },
  "orig_nbformat": 4
 },
 "nbformat": 4,
 "nbformat_minor": 2
}
