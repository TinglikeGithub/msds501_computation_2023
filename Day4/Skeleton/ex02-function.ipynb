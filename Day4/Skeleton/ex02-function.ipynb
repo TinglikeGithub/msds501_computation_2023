{
 "cells": [
  {
   "attachments": {},
   "cell_type": "markdown",
   "id": "1cb2c7de-e811-4ab4-8626-035845e2cd95",
   "metadata": {
    "tags": []
   },
   "source": [
    "## For the following functions, what are the proper ways to call the function?"
   ]
  },
  {
   "cell_type": "code",
   "execution_count": 4,
   "id": "0a717383-63b0-4ed3-814a-f9f80952dab1",
   "metadata": {
    "tags": []
   },
   "outputs": [],
   "source": [
    "def generate_emails_keyword(first_name: str ='', last_name: str='') -> str:\n",
    "    user_id = first_name.lower()[0] + last_name.lower()\n",
    "    return user_id + '@usfca.edu'"
   ]
  },
  {
   "cell_type": "code",
   "execution_count": 8,
   "id": "9a1f39a0-acc8-4cba-998d-7288d6e221ac",
   "metadata": {},
   "outputs": [],
   "source": [
    "def generate_emails_arbitary(*args):\n",
    "    user_id = args[0].lower()[0] + args[1].lower()\n",
    "    return user_id + \"@usfca.edu\""
   ]
  },
  {
   "cell_type": "code",
   "execution_count": 11,
   "id": "b43d120b-029f-4e82-a2ec-83ee19c4655c",
   "metadata": {},
   "outputs": [],
   "source": [
    "def generate_emails_arbitary_keyword(**kargs):\n",
    "    user_id = kargs['first_name'][0].lower() + kargs['last_name'].lower()\n",
    "    return user_id + \"@usfca.edu\""
   ]
  },
  {
   "cell_type": "code",
   "execution_count": null,
   "id": "c1789ece",
   "metadata": {},
   "outputs": [],
   "source": []
  }
 ],
 "metadata": {
  "kernelspec": {
   "display_name": "Python 3 (ipykernel)",
   "language": "python",
   "name": "python3"
  },
  "language_info": {
   "codemirror_mode": {
    "name": "ipython",
    "version": 3
   },
   "file_extension": ".py",
   "mimetype": "text/x-python",
   "name": "python",
   "nbconvert_exporter": "python",
   "pygments_lexer": "ipython3",
   "version": "3.11.3"
  }
 },
 "nbformat": 4,
 "nbformat_minor": 5
}
