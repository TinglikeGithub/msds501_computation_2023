{
 "cells": [
  {
   "attachments": {},
   "cell_type": "markdown",
   "metadata": {},
   "source": [
    "Complete a function called find_median_array_length() which takes two lists including string values (array1 and array2) and returns the median length of strings included in array1 and array2."
   ]
  },
  {
   "cell_type": "code",
   "execution_count": null,
   "metadata": {},
   "outputs": [],
   "source": [
    "def find_median_array_length(array1, array2) -> float:\n",
    "    array = array1.copy() + array2.copy()\n",
    "    # Map\n",
    "    for i in range(len(array)):\n",
    "        \n",
    "        array[i] = len(array[i])\n",
    "    # Reduce\n",
    "    array.sort()\n",
    "    if len(array)%2 == 0:\n",
    "        return (array[int(len(array)/2)] + array[int(len(array)/2)-1])/2\n",
    "    else:\n",
    "        return array[int(len(array)/2)] "
   ]
  },
  {
   "cell_type": "code",
   "execution_count": null,
   "metadata": {},
   "outputs": [],
   "source": [
    "array1 = ['Ann', 'Su', 'T']\n",
    "array2 = ['Diane', 'Jack', 'Jon']\n",
    "find_median_array_length(array1, array2)"
   ]
  },
  {
   "cell_type": "code",
   "execution_count": null,
   "metadata": {},
   "outputs": [],
   "source": [
    "array1 = ['Diane', 'Aija', 'Aline']\n",
    "array2 = ['Shan', 'Yannet', 'Victor', 'Robert']\n",
    "find_median_array_length(array1, array2)"
   ]
  },
  {
   "cell_type": "code",
   "execution_count": null,
   "metadata": {},
   "outputs": [],
   "source": []
  }
 ],
 "metadata": {
  "kernelspec": {
   "display_name": "base",
   "language": "python",
   "name": "python3"
  },
  "language_info": {
   "codemirror_mode": {
    "name": "ipython",
    "version": 3
   },
   "file_extension": ".py",
   "mimetype": "text/x-python",
   "name": "python",
   "nbconvert_exporter": "python",
   "pygments_lexer": "ipython3",
   "version": "3.11.3"
  },
  "orig_nbformat": 4
 },
 "nbformat": 4,
 "nbformat_minor": 2
}
