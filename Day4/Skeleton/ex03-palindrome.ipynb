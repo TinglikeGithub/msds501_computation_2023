{
 "cells": [
  {
   "attachments": {},
   "cell_type": "markdown",
   "id": "cce3db75-1aad-4086-9264-2d09e1c182cb",
   "metadata": {
    "tags": []
   },
   "source": [
    "## palindrome\n",
    "For a given sentence (input), create a function called find_palindrome_words() takes a string and return a list of strings that are palindrome words. A palindrome word remains the same when read forwards and backwards.\n",
    "\n",
    "Ex. pop, Noon"
   ]
  },
  {
   "cell_type": "code",
   "execution_count": null,
   "id": "7e910243",
   "metadata": {},
   "outputs": [],
   "source": [
    "def find_palindrome_words(input):"
   ]
  },
  {
   "cell_type": "code",
   "execution_count": null,
   "id": "c72e185d-32ee-4263-ab0e-b266aef9a4ae",
   "metadata": {},
   "outputs": [],
   "source": [
    "input_sentence = 'I did not like to listen a tot pop at Noon'\n",
    "find_palindrome_words(input_sentence) == ['I', 'did', 'a', 'tot', 'pop', 'Noon']"
   ]
  },
  {
   "cell_type": "code",
   "execution_count": null,
   "id": "545da86b-b402-4466-bc0c-46edf48a9801",
   "metadata": {},
   "outputs": [],
   "source": []
  }
 ],
 "metadata": {
  "kernelspec": {
   "display_name": "Python 3 (ipykernel)",
   "language": "python",
   "name": "python3"
  },
  "language_info": {
   "codemirror_mode": {
    "name": "ipython",
    "version": 3
   },
   "file_extension": ".py",
   "mimetype": "text/x-python",
   "name": "python",
   "nbconvert_exporter": "python",
   "pygments_lexer": "ipython3",
   "version": "3.11.3"
  }
 },
 "nbformat": 4,
 "nbformat_minor": 5
}
