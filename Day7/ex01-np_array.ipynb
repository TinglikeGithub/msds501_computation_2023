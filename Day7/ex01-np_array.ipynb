{
 "cells": [
  {
   "attachments": {},
   "cell_type": "markdown",
   "metadata": {},
   "source": [
    "### NumPy Array Creation\n",
    "1) Converting Python sequences to NumPy arrays"
   ]
  },
  {
   "cell_type": "code",
   "execution_count": 2,
   "metadata": {},
   "outputs": [],
   "source": [
    "import numpy as np"
   ]
  },
  {
   "cell_type": "code",
   "execution_count": 3,
   "metadata": {},
   "outputs": [
    {
     "data": {
      "text/plain": [
       "array([1., 2., 4., 5.])"
      ]
     },
     "execution_count": 3,
     "metadata": {},
     "output_type": "execute_result"
    }
   ],
   "source": [
    "py_array = [1, 2, 4, 5]\n",
    "np_array = np.array(py_array, dtype=float)\n",
    "np_array"
   ]
  },
  {
   "attachments": {},
   "cell_type": "markdown",
   "metadata": {},
   "source": [
    "\n",
    "2) Reading from a file"
   ]
  },
  {
   "cell_type": "code",
   "execution_count": 66,
   "metadata": {},
   "outputs": [
    {
     "data": {
      "text/plain": [
       "array([('2020-01-01', 60070008, 27, 25), ('2020-01-02', 60070008, 22, 20),\n",
       "       ('2020-01-03', 60070008, 30, 28), ...,\n",
       "       ('2020-06-28', 60271003, 43, 40), ('2020-06-29', 60271003, 50, 46),\n",
       "       ('2020-06-30', 60271003, 18, 17)],\n",
       "      dtype=[('date', 'O'), ('site_id', '<i8'), ('daily_mean_pm10', '<i8'), ('daily_aqi_value', '<i8')])"
      ]
     },
     "execution_count": 66,
     "metadata": {},
     "output_type": "execute_result"
    }
   ],
   "source": [
    "file_path = \"../Data/epa_air_quality.csv\"\n",
    "np_array = np.loadtxt(fname=file_path, \n",
    "                      delimiter=',',\n",
    "                      dtype=[('date', object),\n",
    "                             ('site_id', int), \n",
    "                             ('daily_mean_pm10', int), \n",
    "                             ('daily_aqi_value', int)],\n",
    "                       skiprows=1\n",
    "                      )\n",
    "np_array"
   ]
  },
  {
   "cell_type": "code",
   "execution_count": 67,
   "metadata": {},
   "outputs": [
    {
     "data": {
      "text/plain": [
       "array(['2020-01-01', '2020-01-02', '2020-01-03', ..., '2020-06-28',\n",
       "       '2020-06-29', '2020-06-30'], dtype=object)"
      ]
     },
     "execution_count": 67,
     "metadata": {},
     "output_type": "execute_result"
    }
   ],
   "source": [
    "np_array['date']"
   ]
  },
  {
   "attachments": {},
   "cell_type": "markdown",
   "metadata": {},
   "source": []
  }
 ],
 "metadata": {
  "kernelspec": {
   "display_name": "base",
   "language": "python",
   "name": "python3"
  },
  "language_info": {
   "codemirror_mode": {
    "name": "ipython",
    "version": 3
   },
   "file_extension": ".py",
   "mimetype": "text/x-python",
   "name": "python",
   "nbconvert_exporter": "python",
   "pygments_lexer": "ipython3",
   "version": "3.11.3"
  },
  "orig_nbformat": 4
 },
 "nbformat": 4,
 "nbformat_minor": 2
}
