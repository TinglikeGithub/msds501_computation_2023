{
 "cells": [
  {
   "cell_type": "code",
   "execution_count": 3,
   "metadata": {},
   "outputs": [
    {
     "data": {
      "text/plain": [
       "array([32, 256, 216, 64], dtype=object)"
      ]
     },
     "execution_count": 3,
     "metadata": {},
     "output_type": "execute_result"
    }
   ],
   "source": [
    "import numpy as np\n",
    "\n",
    "\"\"\"\n",
    "Create a numpy vectorized function called np_power() which takes two numpy arrays.\n",
    "The first array's elements are used as \"base\", wherease the second array's elements are used as \"exp\".\n",
    "For instance, np_power(np.array([2, 4, 6, 8]), np.array([5, 4, 3, 2])) returns [32, 256, 216, 64].\n",
    "\"\"\"\n",
    "def power(base, exp):\n",
    "    if type(base) == int and type(exp) == int:\n",
    "        return pow(base, exp)\n",
    "np_power = np.vectorize(power)\n",
    "\n",
    "np_array1 = np.array([2, 4, 6, 8])\n",
    "np_array2 = np.array([5, 4, 3, 2])\n",
    "np_power(np_array1, np_array2)"
   ]
  },
  {
   "cell_type": "code",
   "execution_count": null,
   "metadata": {},
   "outputs": [],
   "source": []
  }
 ],
 "metadata": {
  "kernelspec": {
   "display_name": "base",
   "language": "python",
   "name": "python3"
  },
  "language_info": {
   "codemirror_mode": {
    "name": "ipython",
    "version": 3
   },
   "file_extension": ".py",
   "mimetype": "text/x-python",
   "name": "python",
   "nbconvert_exporter": "python",
   "pygments_lexer": "ipython3",
   "version": "3.11.3"
  },
  "orig_nbformat": 4
 },
 "nbformat": 4,
 "nbformat_minor": 2
}
