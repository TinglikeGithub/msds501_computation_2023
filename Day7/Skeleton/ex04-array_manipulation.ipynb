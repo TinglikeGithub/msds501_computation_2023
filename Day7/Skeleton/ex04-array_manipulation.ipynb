{
 "cells": [
  {
   "cell_type": "code",
   "execution_count": null,
   "id": "a45c9ac1-f2f2-4841-9a20-a2a57c457109",
   "metadata": {},
   "outputs": [],
   "source": [
    "import numpy as np"
   ]
  },
  {
   "cell_type": "code",
   "execution_count": null,
   "id": "302790fc-5a94-49ae-9313-5bae9c74502d",
   "metadata": {},
   "outputs": [],
   "source": [
    "np_array = np.array([[1, 2, 3], [4, 5, 6], [7, 8, 9]])"
   ]
  },
  {
   "cell_type": "code",
   "execution_count": null,
   "id": "73c8529e-7363-4639-8d4b-70f14f396f3b",
   "metadata": {},
   "outputs": [],
   "source": [
    "np_array"
   ]
  },
  {
   "attachments": {},
   "cell_type": "markdown",
   "id": "98c07286-bce7-499a-bc9f-2b6850407427",
   "metadata": {},
   "source": [
    "### Transpose np_array"
   ]
  },
  {
   "cell_type": "code",
   "execution_count": null,
   "id": "4d043e72",
   "metadata": {},
   "outputs": [],
   "source": []
  },
  {
   "attachments": {},
   "cell_type": "markdown",
   "id": "83aebf6e-c418-417e-83d5-78aa50a865c9",
   "metadata": {},
   "source": [
    "### Reshape np_array"
   ]
  },
  {
   "cell_type": "code",
   "execution_count": null,
   "id": "06c500ef-11cd-41f4-ac25-a7663921cfc3",
   "metadata": {},
   "outputs": [],
   "source": []
  },
  {
   "attachments": {},
   "cell_type": "markdown",
   "id": "483495cd-b13b-48dd-8e57-d78f91f3349d",
   "metadata": {},
   "source": [
    "### Split"
   ]
  },
  {
   "attachments": {},
   "cell_type": "markdown",
   "id": "2dbe7435-7037-4d47-9669-0f3927337f25",
   "metadata": {},
   "source": [
    "Split np_array to have first two rows and last one row."
   ]
  },
  {
   "cell_type": "code",
   "execution_count": null,
   "id": "3181ec9d-b75c-471d-bc3c-f619a6cef4ce",
   "metadata": {},
   "outputs": [],
   "source": []
  },
  {
   "cell_type": "code",
   "execution_count": null,
   "id": "c00a168c-5fea-47a6-ba3a-a62de53963dd",
   "metadata": {},
   "outputs": [],
   "source": []
  },
  {
   "attachments": {},
   "cell_type": "markdown",
   "id": "24c46ef2-593f-400f-841f-612b6048ef9b",
   "metadata": {},
   "source": [
    "Split np_array to have first two columns and last one column."
   ]
  },
  {
   "cell_type": "code",
   "execution_count": null,
   "id": "b1de1c41-4527-44ea-882e-695d4764793b",
   "metadata": {},
   "outputs": [],
   "source": []
  },
  {
   "attachments": {},
   "cell_type": "markdown",
   "id": "848df6d4-743e-4fbb-b5d5-b5a9be7ba631",
   "metadata": {},
   "source": [
    "### Concatenate"
   ]
  },
  {
   "attachments": {},
   "cell_type": "markdown",
   "id": "3e6653cf-1c92-480b-826e-b5cc26838044",
   "metadata": {},
   "source": [
    "add the 4th row with 10, 11 and 12"
   ]
  },
  {
   "cell_type": "code",
   "execution_count": null,
   "id": "c830ff56-4288-4d37-b4c1-da27232d563a",
   "metadata": {},
   "outputs": [],
   "source": [
    "row = np.array([[10, 11, 12]])"
   ]
  },
  {
   "attachments": {},
   "cell_type": "markdown",
   "id": "4d394e97-9724-4b41-83ba-ab63ca8dce92",
   "metadata": {},
   "source": [
    "add the 4th column with 10, 11 and 12"
   ]
  },
  {
   "cell_type": "code",
   "execution_count": null,
   "id": "bae3eecf-8f4c-4f81-bc1e-8d93000cae0b",
   "metadata": {},
   "outputs": [],
   "source": [
    "col = np.array([[10], [11], [12]])"
   ]
  },
  {
   "cell_type": "code",
   "execution_count": null,
   "id": "2b2c1a61-18cf-4e32-9b55-e8210c998073",
   "metadata": {},
   "outputs": [],
   "source": []
  },
  {
   "cell_type": "code",
   "execution_count": null,
   "id": "6bdfd66f",
   "metadata": {},
   "outputs": [],
   "source": []
  }
 ],
 "metadata": {
  "kernelspec": {
   "display_name": "Python 3 (ipykernel)",
   "language": "python",
   "name": "python3"
  },
  "language_info": {
   "codemirror_mode": {
    "name": "ipython",
    "version": 3
   },
   "file_extension": ".py",
   "mimetype": "text/x-python",
   "name": "python",
   "nbconvert_exporter": "python",
   "pygments_lexer": "ipython3",
   "version": "3.11.3"
  },
  "varInspector": {
   "cols": {
    "lenName": 16,
    "lenType": 16,
    "lenVar": 40
   },
   "kernels_config": {
    "python": {
     "delete_cmd_postfix": "",
     "delete_cmd_prefix": "del ",
     "library": "var_list.py",
     "varRefreshCmd": "print(var_dic_list())"
    },
    "r": {
     "delete_cmd_postfix": ") ",
     "delete_cmd_prefix": "rm(",
     "library": "var_list.r",
     "varRefreshCmd": "cat(var_dic_list()) "
    }
   },
   "types_to_exclude": [
    "module",
    "function",
    "builtin_function_or_method",
    "instance",
    "_Feature"
   ],
   "window_display": false
  }
 },
 "nbformat": 4,
 "nbformat_minor": 5
}
