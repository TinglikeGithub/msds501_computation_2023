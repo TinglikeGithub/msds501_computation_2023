{
 "cells": [
  {
   "attachments": {},
   "cell_type": "markdown",
   "metadata": {},
   "source": [
    "Create remove_element() which removes all occurrences of val in nums in-place, given an integer array nums and an integer val. \n",
    "Then return the number of elements in nums which are not equal to val.\n",
    "- Note : The order of the elements in nums may be changed."
   ]
  },
  {
   "cell_type": "code",
   "execution_count": null,
   "metadata": {},
   "outputs": [],
   "source": [
    "def remove_element(nums: list[int], val: int) -> int:\n",
    "    length = len(nums)\n",
    "    i = 0\n",
    "    \n",
    "    # Filter\n",
    "    while(i < length):\n",
    "        if nums[i] == val:\n",
    "            nums.pop(i)\n",
    "            length -= 1\n",
    "        else:\n",
    "            i += 1\n",
    "    return len(nums)"
   ]
  },
  {
   "cell_type": "code",
   "execution_count": null,
   "metadata": {},
   "outputs": [],
   "source": [
    "nums = [3,2,2,3]\n",
    "val = 3\n",
    "remove_element(nums, val)"
   ]
  },
  {
   "cell_type": "code",
   "execution_count": null,
   "metadata": {},
   "outputs": [],
   "source": [
    "nums = [0,1,2,2,3,0,4,2]\n",
    "val = 2\n",
    "remove_element(nums, val)"
   ]
  },
  {
   "cell_type": "code",
   "execution_count": null,
   "metadata": {},
   "outputs": [],
   "source": []
  }
 ],
 "metadata": {
  "kernelspec": {
   "display_name": "base",
   "language": "python",
   "name": "python3"
  },
  "language_info": {
   "codemirror_mode": {
    "name": "ipython",
    "version": 3
   },
   "file_extension": ".py",
   "mimetype": "text/x-python",
   "name": "python",
   "nbconvert_exporter": "python",
   "pygments_lexer": "ipython3",
   "version": "3.11.3"
  },
  "orig_nbformat": 4
 },
 "nbformat": 4,
 "nbformat_minor": 2
}
