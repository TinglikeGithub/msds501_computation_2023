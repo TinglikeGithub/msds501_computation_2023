{
 "cells": [
  {
   "cell_type": "code",
   "execution_count": 2,
   "metadata": {},
   "outputs": [],
   "source": [
    "import pickle"
   ]
  },
  {
   "cell_type": "code",
   "execution_count": 3,
   "metadata": {},
   "outputs": [],
   "source": [
    "file_path = '../Data/epa_air_quality.pickle'"
   ]
  },
  {
   "cell_type": "code",
   "execution_count": 11,
   "metadata": {},
   "outputs": [
    {
     "name": "stdout",
     "output_type": "stream",
     "text": [
      "{'Butte': {'Chico-East Avenue'}, 'Calaveras': {'San Andreas-Gold Strike Road'}, 'Colusa': {'Colusa-Sunrise Blvd'}, 'El Dorado': {'South Lake Tahoe-Sandy Way'}, 'Fresno': {'Table Mountain Air Monitoring Site', 'Fresno-Drummond', 'Clovis-Villa', 'Fresno - Garland'}, 'Glenn': {'Willows-Colusa Street'}, 'Humboldt': {'Jacobs'}, 'Imperial': {'El Centro-9th Street', 'Niland-English Road', 'Brawley-220 Main Street', 'Calexico-Ethel Street', 'Westmorland'}, 'Inyo': {'Keeler', 'Lone Pine Paiute-Shoshone Reservation', 'Shell Cut', 'Dirty Socks', 'North Beach', 'White Mountain Research Center - Owens Valley Lab', 'Olancha-Well 404', 'Bishop Tribe EMO', 'Fort Independence Indian Community', 'Lizard Tail', 'Mill Site', 'Bill Stanley', 'Lone Pine PM', 'Coso Junction'}, 'Kern': {'Mojave', 'Ridgecrest-Ward', 'Bakersfield-California', 'Bakersfield-Golden/M St', 'Canebrake', 'Oildale'}, 'Kings': {'Santa Rosa Rancheria', 'Hanford-Irwin', 'Corcoran-Patterson'}, 'Lake': {'ANDERSON SPRINGS', 'GLENBROOK', 'Lakeport-S. Main Street'}, 'Los Angeles': {'LAX Hastings', 'Santa Clarita', 'Long Beach (Hudson)', 'Azusa', 'Los Angeles-North Main Street', 'Long Beach (South)', 'Glendora', 'Lancaster-Division Street'}, 'Madera': {'Madera-City'}, 'Mariposa': {'Yosemite NP-Yosemite Village Vistor Center'}, 'Mendocino': {'Fort Bragg-300 Dana Street'}, 'Merced': {'Merced-M Street'}, 'Mono': {'Mono Shore', 'Mammoth', 'Lee Vining'}, 'Monterey': {'King City 2'}, 'Orange': {'Anaheim', 'Mission Viejo'}, 'Placer': {'Roseville-N Sunrise Ave'}, 'Riverside': {'Indio', 'Torres Martinez Administration Site', 'Mira Loma (Van Buren)', '29 Palms', 'Norco', 'Banning Airport', 'Palm Springs', 'Mecca (Saul Martinez)', 'Rubidoux', 'Perris', 'Lake Elsinore'}, 'Sacramento': {'Sacramento-1309 T Street', 'North Highlands-Blackfoot', 'Sacramento-Del Paso Manor', 'Sacramento-Branch Center #2'}, 'San Benito': {'Hollister'}, 'San Bernardino': {'San Bernardino', 'Redlands', 'Fontana', 'Hesperia-Olive Street', 'Victorville-Park Avenue', 'Trona - Athol/Telescope #2', 'Barstow', 'Crestline', 'Upland'}, 'San Diego': {'El Cajon - Lexington Elementary School', 'Chula Vista', 'Donovan'}, 'San Joaquin': {'Stockton-Hazelton', 'Tracy-Airport', 'Manteca'}, 'San Luis Obispo': {'Oso Flaco Site', 'San Luis Obispo', 'Paso Robles', 'Nipomo Regional Park (NRP)', 'Arroyo Grande CDF', 'Mesa2', 'Atascadero'}, 'Santa Barbara': {'Lompoc H Street', 'Los Flores Canyon #1', 'Santa Barbara', 'Goleta', 'Santa Maria'}, 'Shasta': {'Shasta Lake-La Mesa', 'Redding - Health Department', 'Anderson - North Street'}, 'Sonoma': {'Cloverdale', 'Guerneville-Church and 1st', 'Healdsburg-Matheson'}, 'Stanislaus': {'Turlock', 'Modesto-14th Street'}, 'Sutter': {'Yuba City'}, 'Tehama': {'Red Bluff-Walnut St. District Office'}, 'Tulare': {'Visalia-Church'}, 'Ventura': {'El Rio-Rio Mesa School #2', 'Simi Valley-Cochran Street'}, 'Yolo': {'Woodland-Gibson Road', 'West Sacramento-15th Street'}}\n"
     ]
    }
   ],
   "source": [
    "def create_county_station_names_dictionary(file_path):\n",
    "    \"\"\"\n",
    "    Complete create_county_station_names_dictionary()\n",
    "    which loads data from a pickle file located as file_path.\n",
    "    This creates and returns  (county_name - last 3rd column, station - last 5th column)\n",
    "    a dictionary of {county_name_1 : {set of station_names}, \n",
    "                    county_name_2 : {set of station_names}, ...}\n",
    "    \"\"\"\n",
    "   "
   ]
  },
  {
   "cell_type": "code",
   "execution_count": null,
   "metadata": {},
   "outputs": [],
   "source": []
  }
 ],
 "metadata": {
  "kernelspec": {
   "display_name": "base",
   "language": "python",
   "name": "python3"
  },
  "language_info": {
   "codemirror_mode": {
    "name": "ipython",
    "version": 3
   },
   "file_extension": ".py",
   "mimetype": "text/x-python",
   "name": "python",
   "nbconvert_exporter": "python",
   "pygments_lexer": "ipython3",
   "version": "3.11.3"
  },
  "orig_nbformat": 4
 },
 "nbformat": 4,
 "nbformat_minor": 2
}
