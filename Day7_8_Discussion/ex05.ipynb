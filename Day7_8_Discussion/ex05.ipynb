{
 "cells": [
  {
   "cell_type": "code",
   "execution_count": 8,
   "metadata": {},
   "outputs": [],
   "source": [
    "class Organization():\n",
    "    \"\"\"\n",
    "    Create a class called Organization(), where its constructor takes name, type, size, and budget\n",
    "    as input parameters and assign to its class attributes.\n",
    "    It also sets hr_budget, which is 70% of its budget if its type is 'non-profit', and otherwise, 50%.\n",
    "    This class has a method called increase_budget(amount), which increase budget by amount\n",
    "    and hr_budget proportionally.\n",
    "    Ex.\n",
    "    usf = Organization('USF', 'non-profit', 1000, 1000000) \n",
    "    usf.increase_budget(100000)\n",
    "    usf.budget  #  1100000\n",
    "    usf.hr_budget #  770000.0\n",
    "    \"\"\"\n",
    "    def __init__(self, name, type, size, budget):\n",
    "        self.name = name\n",
    "        self.budget = budget\n",
    "        self.size = size\n",
    "        self.type = type\n",
    "        self._update_hr_budget()\n",
    "\n",
    "    def _update_hr_budget(self):\n",
    "        if self.type == 'non-profit':\n",
    "            self.hr_budget = self.budget * 0.7\n",
    "        else:\n",
    "            self.hr_budget = self.budget * 0.6\n",
    "    \n",
    "    def increase_budget(self, amount):\n",
    "        self.budget += amount\n",
    "        self._update_hr_budget()"
   ]
  },
  {
   "cell_type": "code",
   "execution_count": 20,
   "metadata": {},
   "outputs": [
    {
     "data": {
      "text/plain": [
       "1100000"
      ]
     },
     "execution_count": 20,
     "metadata": {},
     "output_type": "execute_result"
    }
   ],
   "source": [
    "usf = Organization('USF', 'non-profit', 1000, 1000000)\n",
    "usf.increase_budget(100000)\n",
    "usf.budget # 1100000\n",
    "usf.hr_budget # 770000.0\n"
   ]
  },
  {
   "cell_type": "code",
   "execution_count": 14,
   "metadata": {},
   "outputs": [],
   "source": [
    "class School(Organization):\n",
    "    \"\"\"\n",
    "    Create a class called School, and Organization is its superclass.\n",
    "    In its constructor, make sure that the School class inherits its attributes and methods from Organization\n",
    "    and add school_type attribute, where it is 'higher-ed' if its name includes 'university'.\n",
    "    Otherwise, set school_type as 'k-12'.\n",
    "    Check its available class methods and attributes.\n",
    "    \"\"\"\n",
    "    def __init__(self, name, size, budget):\n",
    "        super().__init__(name, 'non-profit', size, budget)\n",
    "        if 'university' in name.lower():\n",
    "            self.school_type = 'higher-ed'\n",
    "        else:\n",
    "            self.school_type = 'k-12'\n",
    "        \n"
   ]
  },
  {
   "cell_type": "code",
   "execution_count": 21,
   "metadata": {},
   "outputs": [
    {
     "data": {
      "text/plain": [
       "802000"
      ]
     },
     "execution_count": 21,
     "metadata": {},
     "output_type": "execute_result"
    }
   ],
   "source": [
    "rhs = School('Redwood High School', 1000, 800000)\n",
    "rhs.increase_budget(2000)\n",
    "rhs.budget # 802000"
   ]
  },
  {
   "cell_type": "code",
   "execution_count": 11,
   "metadata": {},
   "outputs": [
    {
     "data": {
      "text/plain": [
       "770000.0"
      ]
     },
     "execution_count": 11,
     "metadata": {},
     "output_type": "execute_result"
    }
   ],
   "source": []
  },
  {
   "cell_type": "code",
   "execution_count": null,
   "metadata": {},
   "outputs": [],
   "source": []
  }
 ],
 "metadata": {
  "kernelspec": {
   "display_name": "base",
   "language": "python",
   "name": "python3"
  },
  "language_info": {
   "codemirror_mode": {
    "name": "ipython",
    "version": 3
   },
   "file_extension": ".py",
   "mimetype": "text/x-python",
   "name": "python",
   "nbconvert_exporter": "python",
   "pygments_lexer": "ipython3",
   "version": "3.11.3"
  },
  "orig_nbformat": 4
 },
 "nbformat": 4,
 "nbformat_minor": 2
}
