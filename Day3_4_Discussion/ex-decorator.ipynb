{
 "cells": [
  {
   "attachments": {},
   "cell_type": "markdown",
   "metadata": {},
   "source": [
    "Create a decorator which returns the amount of time took to run the code."
   ]
  },
  {
   "cell_type": "code",
   "execution_count": 1,
   "metadata": {},
   "outputs": [],
   "source": [
    "import time\n",
    "\n",
    "def decorator_name(func):  # the decorator takse the function\n",
    "    def wrapper_func(*args, **kargs): # the inner function takes the argument of func and add extra on func\n",
    "        # args and kargs are arbitary or arbitary keyword arguments given to func\n",
    "        before = time.time()  # add some additional behaviors\n",
    "        func(*args, **kargs)\n",
    "        print(f'Took {time.time() - before} second') # add some additional behaviors\n",
    "    return wrapper_func\n",
    "\n",
    "@decorator_name\n",
    "def hello_world(**kargs):\n",
    "    print(f\"hello word - {kargs['name']}\")"
   ]
  },
  {
   "cell_type": "code",
   "execution_count": 2,
   "metadata": {},
   "outputs": [
    {
     "name": "stdout",
     "output_type": "stream",
     "text": [
      "hello word - Diane\n",
      "Took 1.2636184692382812e-05 second\n"
     ]
    }
   ],
   "source": [
    "hello_world(name=\"Diane\")"
   ]
  },
  {
   "cell_type": "code",
   "execution_count": null,
   "metadata": {},
   "outputs": [],
   "source": []
  }
 ],
 "metadata": {
  "kernelspec": {
   "display_name": "base",
   "language": "python",
   "name": "python3"
  },
  "language_info": {
   "codemirror_mode": {
    "name": "ipython",
    "version": 3
   },
   "file_extension": ".py",
   "mimetype": "text/x-python",
   "name": "python",
   "nbconvert_exporter": "python",
   "pygments_lexer": "ipython3",
   "version": "3.11.3"
  },
  "orig_nbformat": 4
 },
 "nbformat": 4,
 "nbformat_minor": 2
}
