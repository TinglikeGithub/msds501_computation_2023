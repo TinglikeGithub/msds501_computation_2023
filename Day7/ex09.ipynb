{
 "cells": [
  {
   "attachments": {},
   "cell_type": "markdown",
   "metadata": {},
   "source": [
    "-  Data/countries.tsv contains a tab separated values of initial, name, lon, and lat. \n",
    "- Create a function called sorted_filtered_rows() which takes a numpy array created from countries.tsv, starts_with and lon_limit, and returns names in lower cases where its name starts with start_with (case insenstive) and its longitude is smaller than lon_limit"
   ]
  },
  {
   "cell_type": "code",
   "execution_count": 1,
   "metadata": {},
   "outputs": [],
   "source": [
    "import numpy as np"
   ]
  },
  {
   "cell_type": "code",
   "execution_count": 2,
   "metadata": {},
   "outputs": [],
   "source": [
    "file_path = \"../Data/countries.tsv\"\n",
    "countries = np.loadtxt(fname=file_path, \n",
    "                       delimiter='\\t',\n",
    "                       dtype=[('initial', 'U100'),\n",
    "                              ('name', 'U100'), \n",
    "                              ('lon', 'f'), \n",
    "                              ('lat', 'f')])"
   ]
  },
  {
   "cell_type": "code",
   "execution_count": 6,
   "metadata": {},
   "outputs": [],
   "source": [
    "def filter_name(row, start_with, lon_limit):\n",
    "    name = str(row[1]).lower()\n",
    "    lon = row[2]\n",
    "    if name.startswith(start_with.lower()) and lon < lon_limit:\n",
    "        return row[1].lower()"
   ]
  },
  {
   "cell_type": "code",
   "execution_count": 7,
   "metadata": {},
   "outputs": [
    {
     "data": {
      "text/plain": [
       "<numpy.vectorize at 0x11138bed0>"
      ]
     },
     "execution_count": 7,
     "metadata": {},
     "output_type": "execute_result"
    }
   ],
   "source": [
    "filter_country_name = np.vectorize(filter_name)\n",
    "filter_country_name"
   ]
  },
  {
   "cell_type": "code",
   "execution_count": 8,
   "metadata": {},
   "outputs": [],
   "source": [
    "def sorted_filtered_rows(countries, starts_with, lon_limit):\n",
    "    filtered_rows = filter_country_name(countries, starts_with, lon_limit)\n",
    "    non_empty = filtered_rows[filtered_rows != np.array(None)]\n",
    "    return np.sort(non_empty)\n"
   ]
  },
  {
   "cell_type": "code",
   "execution_count": 9,
   "metadata": {},
   "outputs": [
    {
     "data": {
      "text/plain": [
       "array(['american samoa', 'angola', 'antarctica', 'argentina', 'australia'],\n",
       "      dtype=object)"
      ]
     },
     "execution_count": 9,
     "metadata": {},
     "output_type": "execute_result"
    }
   ],
   "source": [
    "sorted_filtered_rows(countries, \"a\", 0)"
   ]
  },
  {
   "cell_type": "code",
   "execution_count": null,
   "metadata": {},
   "outputs": [],
   "source": []
  }
 ],
 "metadata": {
  "kernelspec": {
   "display_name": "base",
   "language": "python",
   "name": "python3"
  },
  "language_info": {
   "codemirror_mode": {
    "name": "ipython",
    "version": 3
   },
   "file_extension": ".py",
   "mimetype": "text/x-python",
   "name": "python",
   "nbconvert_exporter": "python",
   "pygments_lexer": "ipython3",
   "version": "3.11.3"
  },
  "orig_nbformat": 4
 },
 "nbformat": 4,
 "nbformat_minor": 2
}
