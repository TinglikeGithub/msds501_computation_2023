{
 "cells": [
  {
   "cell_type": "code",
   "execution_count": null,
   "id": "c6a84257-0a62-453d-8958-ae675e527b4c",
   "metadata": {},
   "outputs": [],
   "source": [
    "import numpy as np"
   ]
  },
  {
   "cell_type": "code",
   "execution_count": null,
   "id": "8f6adece-2f82-4a03-9915-39dd6b74047a",
   "metadata": {},
   "outputs": [],
   "source": [
    "def myfunc(a, b):\n",
    "    if a > b:\n",
    "        return a\n",
    "    else:\n",
    "        return b\n",
    "\n",
    "\n",
    "vfunc = np.vectorize(myfunc)\n",
    "vfunc([1, 2, 3], [0, 3, 4])"
   ]
  },
  {
   "attachments": {},
   "cell_type": "markdown",
   "id": "668adbb3-72a6-47b3-aedb-812ff63168bc",
   "metadata": {},
   "source": [
    "- Create a function to return the length of string in an array."
   ]
  },
  {
   "cell_type": "code",
   "execution_count": null,
   "id": "89d5acb8",
   "metadata": {},
   "outputs": [],
   "source": []
  },
  {
   "attachments": {},
   "cell_type": "markdown",
   "id": "75c01c50-1c0a-4e80-b4df-9715e36fb8e1",
   "metadata": {},
   "source": [
    "- Create a function to return a longer string of the same location in two element."
   ]
  },
  {
   "cell_type": "code",
   "execution_count": null,
   "id": "ee091563-72dd-4733-80a2-5976269e021c",
   "metadata": {},
   "outputs": [],
   "source": []
  }
 ],
 "metadata": {
  "kernelspec": {
   "display_name": "Python 3 (ipykernel)",
   "language": "python",
   "name": "python3"
  },
  "language_info": {
   "codemirror_mode": {
    "name": "ipython",
    "version": 3
   },
   "file_extension": ".py",
   "mimetype": "text/x-python",
   "name": "python",
   "nbconvert_exporter": "python",
   "pygments_lexer": "ipython3",
   "version": "3.11.3"
  },
  "varInspector": {
   "cols": {
    "lenName": 16,
    "lenType": 16,
    "lenVar": 40
   },
   "kernels_config": {
    "python": {
     "delete_cmd_postfix": "",
     "delete_cmd_prefix": "del ",
     "library": "var_list.py",
     "varRefreshCmd": "print(var_dic_list())"
    },
    "r": {
     "delete_cmd_postfix": ") ",
     "delete_cmd_prefix": "rm(",
     "library": "var_list.r",
     "varRefreshCmd": "cat(var_dic_list()) "
    }
   },
   "types_to_exclude": [
    "module",
    "function",
    "builtin_function_or_method",
    "instance",
    "_Feature"
   ],
   "window_display": false
  }
 },
 "nbformat": 4,
 "nbformat_minor": 5
}
