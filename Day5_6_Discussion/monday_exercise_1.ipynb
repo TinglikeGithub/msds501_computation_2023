{
 "cells": [
  {
   "cell_type": "code",
   "execution_count": 13,
   "metadata": {},
   "outputs": [],
   "source": [
    "import pickle"
   ]
  },
  {
   "cell_type": "code",
   "execution_count": 14,
   "metadata": {},
   "outputs": [],
   "source": [
    "file_path = '../Data/epa_air_quality.pickle'"
   ]
  },
  {
   "cell_type": "code",
   "execution_count": 15,
   "metadata": {},
   "outputs": [],
   "source": [
    "def create_county_station_names_dictionary(file_path):\n",
    "    \"\"\"\n",
    "    Complete create_county_station_names_dictionary()\n",
    "    which loads data from a pickle file located as file_path.\n",
    "    This creates and returns \n",
    "    a dictionary of {county_name_1 : {set of station_names}, \n",
    "                    county_name_2 : {set of station_names}, ...}\n",
    "    \"\"\"\n",
    "    with open(file_path, 'rb') as file_obj:\n",
    "        county_station = dict()\n",
    "        content = pickle.load(file_obj)\n",
    "        for row in content:\n",
    "            if row[-3] not in county_station.keys():\n",
    "                county_station[row[-3]] = set()\n",
    "            \n",
    "            county_station[row[-3]].add(row[-5])\n",
    "        return county_station"
   ]
  },
  {
   "cell_type": "code",
   "execution_count": 16,
   "metadata": {},
   "outputs": [
    {
     "data": {
      "text/plain": [
       "{'Butte': {'Chico-East Avenue'},\n",
       " 'Calaveras': {'San Andreas-Gold Strike Road'},\n",
       " 'Colusa': {'Colusa-Sunrise Blvd'},\n",
       " 'El Dorado': {'South Lake Tahoe-Sandy Way'},\n",
       " 'Fresno': {'Clovis-Villa',\n",
       "  'Fresno - Garland',\n",
       "  'Fresno-Drummond',\n",
       "  'Table Mountain Air Monitoring Site'},\n",
       " 'Glenn': {'Willows-Colusa Street'},\n",
       " 'Humboldt': {'Jacobs'},\n",
       " 'Imperial': {'Brawley-220 Main Street',\n",
       "  'Calexico-Ethel Street',\n",
       "  'El Centro-9th Street',\n",
       "  'Niland-English Road',\n",
       "  'Westmorland'},\n",
       " 'Inyo': {'Bill Stanley',\n",
       "  'Bishop Tribe EMO',\n",
       "  'Coso Junction',\n",
       "  'Dirty Socks',\n",
       "  'Fort Independence Indian Community',\n",
       "  'Keeler',\n",
       "  'Lizard Tail',\n",
       "  'Lone Pine PM',\n",
       "  'Lone Pine Paiute-Shoshone Reservation',\n",
       "  'Mill Site',\n",
       "  'North Beach',\n",
       "  'Olancha-Well 404',\n",
       "  'Shell Cut',\n",
       "  'White Mountain Research Center - Owens Valley Lab'},\n",
       " 'Kern': {'Bakersfield-California',\n",
       "  'Bakersfield-Golden/M St',\n",
       "  'Canebrake',\n",
       "  'Mojave',\n",
       "  'Oildale',\n",
       "  'Ridgecrest-Ward'},\n",
       " 'Kings': {'Corcoran-Patterson', 'Hanford-Irwin', 'Santa Rosa Rancheria'},\n",
       " 'Lake': {'ANDERSON SPRINGS', 'GLENBROOK', 'Lakeport-S. Main Street'},\n",
       " 'Los Angeles': {'Azusa',\n",
       "  'Glendora',\n",
       "  'LAX Hastings',\n",
       "  'Lancaster-Division Street',\n",
       "  'Long Beach (Hudson)',\n",
       "  'Long Beach (South)',\n",
       "  'Los Angeles-North Main Street',\n",
       "  'Santa Clarita'},\n",
       " 'Madera': {'Madera-City'},\n",
       " 'Mariposa': {'Yosemite NP-Yosemite Village Vistor Center'},\n",
       " 'Mendocino': {'Fort Bragg-300 Dana Street'},\n",
       " 'Merced': {'Merced-M Street'},\n",
       " 'Mono': {'Lee Vining', 'Mammoth', 'Mono Shore'},\n",
       " 'Monterey': {'King City 2'},\n",
       " 'Orange': {'Anaheim', 'Mission Viejo'},\n",
       " 'Placer': {'Roseville-N Sunrise Ave'},\n",
       " 'Riverside': {'29 Palms',\n",
       "  'Banning Airport',\n",
       "  'Indio',\n",
       "  'Lake Elsinore',\n",
       "  'Mecca (Saul Martinez)',\n",
       "  'Mira Loma (Van Buren)',\n",
       "  'Norco',\n",
       "  'Palm Springs',\n",
       "  'Perris',\n",
       "  'Rubidoux',\n",
       "  'Torres Martinez Administration Site'},\n",
       " 'Sacramento': {'North Highlands-Blackfoot',\n",
       "  'Sacramento-1309 T Street',\n",
       "  'Sacramento-Branch Center #2',\n",
       "  'Sacramento-Del Paso Manor'},\n",
       " 'San Benito': {'Hollister'},\n",
       " 'San Bernardino': {'Barstow',\n",
       "  'Crestline',\n",
       "  'Fontana',\n",
       "  'Hesperia-Olive Street',\n",
       "  'Redlands',\n",
       "  'San Bernardino',\n",
       "  'Trona - Athol/Telescope #2',\n",
       "  'Upland',\n",
       "  'Victorville-Park Avenue'},\n",
       " 'San Diego': {'Chula Vista',\n",
       "  'Donovan',\n",
       "  'El Cajon - Lexington Elementary School'},\n",
       " 'San Joaquin': {'Manteca', 'Stockton-Hazelton', 'Tracy-Airport'},\n",
       " 'San Luis Obispo': {'Arroyo Grande CDF',\n",
       "  'Atascadero',\n",
       "  'Mesa2',\n",
       "  'Nipomo Regional Park (NRP)',\n",
       "  'Oso Flaco Site',\n",
       "  'Paso Robles',\n",
       "  'San Luis Obispo'},\n",
       " 'Santa Barbara': {'Goleta',\n",
       "  'Lompoc H Street',\n",
       "  'Los Flores Canyon #1',\n",
       "  'Santa Barbara',\n",
       "  'Santa Maria'},\n",
       " 'Shasta': {'Anderson - North Street',\n",
       "  'Redding - Health Department',\n",
       "  'Shasta Lake-La Mesa'},\n",
       " 'Sonoma': {'Cloverdale', 'Guerneville-Church and 1st', 'Healdsburg-Matheson'},\n",
       " 'Stanislaus': {'Modesto-14th Street', 'Turlock'},\n",
       " 'Sutter': {'Yuba City'},\n",
       " 'Tehama': {'Red Bluff-Walnut St. District Office'},\n",
       " 'Tulare': {'Visalia-Church'},\n",
       " 'Ventura': {'El Rio-Rio Mesa School #2', 'Simi Valley-Cochran Street'},\n",
       " 'Yolo': {'West Sacramento-15th Street', 'Woodland-Gibson Road'}}"
      ]
     },
     "execution_count": 16,
     "metadata": {},
     "output_type": "execute_result"
    }
   ],
   "source": [
    "create_county_station_names_dictionary(file_path)"
   ]
  },
  {
   "cell_type": "code",
   "execution_count": null,
   "metadata": {},
   "outputs": [],
   "source": []
  }
 ],
 "metadata": {
  "kernelspec": {
   "display_name": "base",
   "language": "python",
   "name": "python3"
  },
  "language_info": {
   "codemirror_mode": {
    "name": "ipython",
    "version": 3
   },
   "file_extension": ".py",
   "mimetype": "text/x-python",
   "name": "python",
   "nbconvert_exporter": "python",
   "pygments_lexer": "ipython3",
   "version": "3.11.3"
  },
  "orig_nbformat": 4
 },
 "nbformat": 4,
 "nbformat_minor": 2
}
