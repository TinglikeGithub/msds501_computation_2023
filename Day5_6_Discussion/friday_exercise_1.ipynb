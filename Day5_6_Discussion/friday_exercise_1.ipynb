{
 "cells": [
  {
   "cell_type": "code",
   "execution_count": 1,
   "metadata": {},
   "outputs": [],
   "source": [
    "import pickle"
   ]
  },
  {
   "cell_type": "code",
   "execution_count": 10,
   "metadata": {},
   "outputs": [],
   "source": [
    "file_name = \"../Data/epa_air_quality.pickle\"\n",
    "date = '2020-01-01'"
   ]
  },
  {
   "cell_type": "code",
   "execution_count": 13,
   "metadata": {},
   "outputs": [],
   "source": [
    "def return_sorted_station_list_on_date(file_name, date):\n",
    "    \"\"\"\n",
    "    Create station_list_on_date() which takes file_name (pickle file) \n",
    "    and date, and returns a sorted list of unique \n",
    "    station_ids (4th col)\n",
    "    with records on date (string of 'YYYY-MM-DD').\n",
    "\n",
    "    \"\"\"\n",
    "    station_set = set()\n",
    "    with open(file_name,'rb') as file_obj:\n",
    "        data = pickle.load(file_obj)\n",
    "        year, month, day = date.split('-')\n",
    "        year = int(year)\n",
    "        month = int(month)\n",
    "        day = int(day)\n",
    "\n",
    "        for row in data:\n",
    "            if row[0] == year and row[1] == month and row[2] == day:\n",
    "                station_set.add(row[3])\n",
    "\n",
    "        station_list = list(station_set)\n",
    "        station_list.sort()\n",
    "        return station_list\n"
   ]
  },
  {
   "cell_type": "code",
   "execution_count": 14,
   "metadata": {},
   "outputs": [
    {
     "data": {
      "text/plain": [
       "[60070008,\n",
       " 60090001,\n",
       " 60111002,\n",
       " 60170011,\n",
       " 60190011,\n",
       " 60190500,\n",
       " 60195001,\n",
       " 60210003,\n",
       " 60231004,\n",
       " 60250005,\n",
       " 60250007,\n",
       " 60251003,\n",
       " 60254003,\n",
       " 60254004,\n",
       " 60270002,\n",
       " 60270004,\n",
       " 60270022,\n",
       " 60270023,\n",
       " 60270025,\n",
       " 60270026,\n",
       " 60270028,\n",
       " 60270029,\n",
       " 60270030,\n",
       " 60271003,\n",
       " 60271018,\n",
       " 60271023,\n",
       " 60271028,\n",
       " 60290011,\n",
       " 60290017,\n",
       " 60290018,\n",
       " 60290232,\n",
       " 60310004,\n",
       " 60310500,\n",
       " 60311004,\n",
       " 60370016,\n",
       " 60379033,\n",
       " 60392010,\n",
       " 60431001,\n",
       " 60450010,\n",
       " 60510001,\n",
       " 60510011,\n",
       " 60530008,\n",
       " 60590007,\n",
       " 60610006,\n",
       " 60650500,\n",
       " 60651999,\n",
       " 60652002,\n",
       " 60652005,\n",
       " 60655001,\n",
       " 60658001,\n",
       " 60658005,\n",
       " 60659001,\n",
       " 60670010,\n",
       " 60690002,\n",
       " 60710001,\n",
       " 60710306,\n",
       " 60711004,\n",
       " 60711234,\n",
       " 60714001,\n",
       " 60719004,\n",
       " 60731022,\n",
       " 60772010,\n",
       " 60773005,\n",
       " 60790005,\n",
       " 60792004,\n",
       " 60792006,\n",
       " 60792007,\n",
       " 60794002,\n",
       " 60798002,\n",
       " 60799001,\n",
       " 60830011,\n",
       " 60831008,\n",
       " 60831025,\n",
       " 60832004,\n",
       " 60832011,\n",
       " 60970001,\n",
       " 60970002,\n",
       " 60973002,\n",
       " 60990005,\n",
       " 61010003,\n",
       " 61072002,\n",
       " 61112002,\n",
       " 61113001]"
      ]
     },
     "execution_count": 14,
     "metadata": {},
     "output_type": "execute_result"
    }
   ],
   "source": [
    "file_name = \"../Data/epa_air_quality.pickle\"\n",
    "date = '2020-01-01'\n",
    "station_list_on_date(file_name, date)"
   ]
  },
  {
   "cell_type": "code",
   "execution_count": null,
   "metadata": {},
   "outputs": [],
   "source": []
  }
 ],
 "metadata": {
  "kernelspec": {
   "display_name": "Python 3",
   "language": "python",
   "name": "python3"
  },
  "language_info": {
   "codemirror_mode": {
    "name": "ipython",
    "version": 3
   },
   "file_extension": ".py",
   "mimetype": "text/x-python",
   "name": "python",
   "nbconvert_exporter": "python",
   "pygments_lexer": "ipython3",
   "version": "3.9.6"
  },
  "orig_nbformat": 4
 },
 "nbformat": 4,
 "nbformat_minor": 2
}
