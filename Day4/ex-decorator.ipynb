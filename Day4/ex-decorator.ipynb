{
 "cells": [
  {
   "attachments": {},
   "cell_type": "markdown",
   "metadata": {},
   "source": [
    "### Decorator Example\n",
    "- functools.lru_cache() decorator wraps a function with a memoizing callable that saves up to the maxsize most recent calls. It stores (caches) the function call's input/output in memory and saves time when an expensive or I/O bound function is periodically called with the same arguments.\n",
    "\n",
    "https://docs.python.org/3/library/functools.html\n",
    "\n",
    "- Let's use the Power class and iterator_example() in Day3's ex-iterator_generator.ipynb. Wrap the function with functools.lru_cache() and compare time to execute the following code for the first time vs. second + times\n",
    "```\n",
    "    for i in nums:\n",
    "       print(iterator_example(i, 2)) \n",
    "```"
   ]
  },
  {
   "cell_type": "code",
   "execution_count": 1,
   "metadata": {},
   "outputs": [],
   "source": [
    "import functools\n",
    "import time"
   ]
  },
  {
   "cell_type": "code",
   "execution_count": 2,
   "metadata": {},
   "outputs": [],
   "source": [
    "class Power:\n",
    "    def __init__(self, p):\n",
    "        \"\"\"\n",
    "        initialization takes 2 second\n",
    "        \"\"\"\n",
    "        self.p = p\n",
    "        time.sleep(2)\n",
    "    \n",
    "    def apply_power(self, x):\n",
    "        return x**self.p"
   ]
  },
  {
   "cell_type": "code",
   "execution_count": 3,
   "metadata": {},
   "outputs": [],
   "source": [
    "@functools.lru_cache(maxsize=128)\n",
    "def iterator_example(num, val):\n",
    "    c = Power(val) # taking long time\n",
    "    return c.apply_power(num)\n"
   ]
  },
  {
   "cell_type": "code",
   "execution_count": 4,
   "metadata": {},
   "outputs": [],
   "source": [
    "nums = range(0, 3)"
   ]
  },
  {
   "cell_type": "code",
   "execution_count": 5,
   "metadata": {},
   "outputs": [
    {
     "name": "stdout",
     "output_type": "stream",
     "text": [
      "0\n",
      "1\n",
      "4\n",
      "CPU times: user 2.11 ms, sys: 1.67 ms, total: 3.78 ms\n",
      "Wall time: 6.01 s\n"
     ]
    }
   ],
   "source": [
    "%%time\n",
    "for i in nums:\n",
    "    print(iterator_example(i, 2))"
   ]
  },
  {
   "cell_type": "code",
   "execution_count": 6,
   "metadata": {},
   "outputs": [
    {
     "name": "stdout",
     "output_type": "stream",
     "text": [
      "0\n",
      "1\n",
      "4\n",
      "CPU times: user 29 µs, sys: 4 µs, total: 33 µs\n",
      "Wall time: 34.1 µs\n"
     ]
    }
   ],
   "source": [
    "%%time\n",
    "for i in nums:\n",
    "    print(iterator_example(i, 2))"
   ]
  },
  {
   "cell_type": "code",
   "execution_count": null,
   "metadata": {},
   "outputs": [],
   "source": []
  }
 ],
 "metadata": {
  "kernelspec": {
   "display_name": "base",
   "language": "python",
   "name": "python3"
  },
  "language_info": {
   "codemirror_mode": {
    "name": "ipython",
    "version": 3
   },
   "file_extension": ".py",
   "mimetype": "text/x-python",
   "name": "python",
   "nbconvert_exporter": "python",
   "pygments_lexer": "ipython3",
   "version": "3.11.3"
  },
  "orig_nbformat": 4
 },
 "nbformat": 4,
 "nbformat_minor": 2
}
