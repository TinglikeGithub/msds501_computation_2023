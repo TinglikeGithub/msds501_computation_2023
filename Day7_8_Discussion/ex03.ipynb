{
 "cells": [
  {
   "cell_type": "code",
   "execution_count": 8,
   "metadata": {},
   "outputs": [],
   "source": [
    "class School():\n",
    "    \"\"\"\n",
    "    Create a class called, School where its constructor takes type, teacher_ct, and student_ct.\n",
    "    For its constructor if its type is 'elementary', 'middle', or 'high', set its head as 'principal',\n",
    "    whereas set its head to 'provost' if its type is 'college'.\n",
    "    This class also has a method called return_live_with() which returns 'parents'.\n",
    "    Ex. \n",
    "    lowell = School('high', 100, 1000)\n",
    "    lowell.return_live_with() returns 'parents'\n",
    "    \"\"\"\n",
    "    def __init__(self, type, teacher_ct, student_ct):\n",
    "        self.type = type\n",
    "        if self.type in ['elementary', 'middle', 'high']:\n",
    "            self.head = 'principal'\n",
    "        elif self.type in ['college']:\n",
    "            self.head = 'provost'\n",
    "    def return_live_with(self):\n",
    "        return 'parents'"
   ]
  },
  {
   "cell_type": "code",
   "execution_count": 12,
   "metadata": {},
   "outputs": [],
   "source": [
    "class College(School):\n",
    "    \"\"\"\n",
    "    Create a class called College which inherits from School and \n",
    "    takes teacher_ct and student_ct for its constructor.\n",
    "    Also, override its return_live_with() to return 'friends'.\n",
    "    Ex. \n",
    "    usf = College(100, 10000)\n",
    "    usf.type == 'college'\n",
    "    usf.head ==  'provost'\n",
    "    usf.return_live_with() == 'friends'\n",
    "    \n",
    "    \"\"\"\n",
    "    def __init__(self, teacher_ct, student_ct):\n",
    "        super().__init__('college', teacher_ct, student_ct)\n",
    "    def return_live_with(self):\n",
    "        return 'friends'"
   ]
  },
  {
   "cell_type": "code",
   "execution_count": 11,
   "metadata": {},
   "outputs": [
    {
     "data": {
      "text/plain": [
       "'parents'"
      ]
     },
     "execution_count": 11,
     "metadata": {},
     "output_type": "execute_result"
    }
   ],
   "source": [
    "lowell = School('high', 100, 1000)\n",
    "lowell.return_live_with()"
   ]
  },
  {
   "cell_type": "code",
   "execution_count": 14,
   "metadata": {},
   "outputs": [
    {
     "data": {
      "text/plain": [
       "'college'"
      ]
     },
     "execution_count": 14,
     "metadata": {},
     "output_type": "execute_result"
    }
   ],
   "source": [
    "usf = College(100, 10000)\n",
    "usf.type"
   ]
  },
  {
   "cell_type": "code",
   "execution_count": 15,
   "metadata": {},
   "outputs": [
    {
     "data": {
      "text/plain": [
       "'provost'"
      ]
     },
     "execution_count": 15,
     "metadata": {},
     "output_type": "execute_result"
    }
   ],
   "source": [
    "usf.head"
   ]
  },
  {
   "cell_type": "code",
   "execution_count": 17,
   "metadata": {},
   "outputs": [
    {
     "data": {
      "text/plain": [
       "'friends'"
      ]
     },
     "execution_count": 17,
     "metadata": {},
     "output_type": "execute_result"
    }
   ],
   "source": [
    "usf.return_live_with()"
   ]
  }
 ],
 "metadata": {
  "kernelspec": {
   "display_name": "base",
   "language": "python",
   "name": "python3"
  },
  "language_info": {
   "codemirror_mode": {
    "name": "ipython",
    "version": 3
   },
   "file_extension": ".py",
   "mimetype": "text/x-python",
   "name": "python",
   "nbconvert_exporter": "python",
   "pygments_lexer": "ipython3",
   "version": "3.11.3"
  },
  "orig_nbformat": 4
 },
 "nbformat": 4,
 "nbformat_minor": 2
}
