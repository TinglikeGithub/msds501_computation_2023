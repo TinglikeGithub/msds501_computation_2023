{
 "cells": [
  {
   "cell_type": "code",
   "execution_count": 1,
   "metadata": {},
   "outputs": [],
   "source": [
    "import numpy as np\n",
    "file_name = '../Data/numbers.txt'"
   ]
  },
  {
   "cell_type": "code",
   "execution_count": 10,
   "metadata": {},
   "outputs": [],
   "source": [
    "def concat(a, b):\n",
    "    return a + b\n",
    "\n",
    "np_concat = np.vectorize(concat)"
   ]
  },
  {
   "cell_type": "code",
   "execution_count": 15,
   "metadata": {},
   "outputs": [],
   "source": [
    "def concat_columns(file_name):\n",
    "    \"\"\"\n",
    "    Create concat_columns() which takes file_name and \n",
    "    returned integers that are concatenated between the first and second columns.\n",
    "    Note: You can assume that the file_name always contains two columns and\n",
    "    data are only integers separated by comma.\n",
    "    Ex. concat_columns('../Data/numbers.txt') returns [[2961], [19], [5095], ...]\n",
    "    \"\"\"\n",
    "    numbers = np.loadtxt(file_name, delimiter=',', dtype='U2')\n",
    "    transposed_numbers = np.transpose(numbers)\n",
    "    return np.reshape(np_concat(transposed_numbers[0],\n",
    "                                transposed_numbers[1]), \n",
    "                      (transposed_numbers.shape[1], 1)).astype('i')"
   ]
  },
  {
   "cell_type": "code",
   "execution_count": 16,
   "metadata": {},
   "outputs": [
    {
     "data": {
      "text/plain": [
       "array([[2961],\n",
       "       [  19],\n",
       "       [5095],\n",
       "       [ 821],\n",
       "       [1861],\n",
       "       [8484],\n",
       "       [3116],\n",
       "       [3457],\n",
       "       [2274],\n",
       "       [5345],\n",
       "       [5782],\n",
       "       [9754],\n",
       "       [ 248],\n",
       "       [8551],\n",
       "       [8281],\n",
       "       [ 863],\n",
       "       [6514],\n",
       "       [3289],\n",
       "       [ 757],\n",
       "       [1658],\n",
       "       [ 442],\n",
       "       [4771],\n",
       "       [1820],\n",
       "       [ 326],\n",
       "       [2848],\n",
       "       [7734],\n",
       "       [ 329],\n",
       "       [6599],\n",
       "       [4410],\n",
       "       [7532],\n",
       "       [6540],\n",
       "       [ 224],\n",
       "       [1013],\n",
       "       [1942],\n",
       "       [3136],\n",
       "       [ 874],\n",
       "       [ 399],\n",
       "       [9295],\n",
       "       [6321],\n",
       "       [8328],\n",
       "       [1926],\n",
       "       [9077],\n",
       "       [7335],\n",
       "       [3412],\n",
       "       [9831],\n",
       "       [7687],\n",
       "       [9113],\n",
       "       [ 990],\n",
       "       [3967],\n",
       "       [2683],\n",
       "       [ 818],\n",
       "       [1428],\n",
       "       [8594],\n",
       "       [7829],\n",
       "       [1566],\n",
       "       [4635],\n",
       "       [ 502],\n",
       "       [9319],\n",
       "       [3596],\n",
       "       [ 137],\n",
       "       [6448],\n",
       "       [ 856],\n",
       "       [ 419],\n",
       "       [ 475],\n",
       "       [5414],\n",
       "       [2728],\n",
       "       [2487],\n",
       "       [7534],\n",
       "       [4875],\n",
       "       [3371],\n",
       "       [2892],\n",
       "       [2734],\n",
       "       [4594],\n",
       "       [9570],\n",
       "       [4320],\n",
       "       [4626],\n",
       "       [5280],\n",
       "       [5693],\n",
       "       [6325],\n",
       "       [6297],\n",
       "       [5543],\n",
       "       [3383],\n",
       "       [ 370],\n",
       "       [2456],\n",
       "       [9410],\n",
       "       [4192],\n",
       "       [4416],\n",
       "       [ 629],\n",
       "       [8891],\n",
       "       [ 827],\n",
       "       [6020],\n",
       "       [7460],\n",
       "       [5579],\n",
       "       [ 342],\n",
       "       [2770],\n",
       "       [7645],\n",
       "       [2582],\n",
       "       [3634],\n",
       "       [2271],\n",
       "       [3495]], dtype=int32)"
      ]
     },
     "execution_count": 16,
     "metadata": {},
     "output_type": "execute_result"
    }
   ],
   "source": [
    "concat_columns(file_name)"
   ]
  },
  {
   "cell_type": "code",
   "execution_count": null,
   "metadata": {},
   "outputs": [],
   "source": []
  }
 ],
 "metadata": {
  "kernelspec": {
   "display_name": "base",
   "language": "python",
   "name": "python3"
  },
  "language_info": {
   "codemirror_mode": {
    "name": "ipython",
    "version": 3
   },
   "file_extension": ".py",
   "mimetype": "text/x-python",
   "name": "python",
   "nbconvert_exporter": "python",
   "pygments_lexer": "ipython3",
   "version": "3.11.3"
  },
  "orig_nbformat": 4
 },
 "nbformat": 4,
 "nbformat_minor": 2
}
