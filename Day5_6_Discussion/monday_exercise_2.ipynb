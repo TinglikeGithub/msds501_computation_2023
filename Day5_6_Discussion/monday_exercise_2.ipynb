{
 "cells": [
  {
   "cell_type": "code",
   "execution_count": 1,
   "metadata": {},
   "outputs": [],
   "source": [
    "import os"
   ]
  },
  {
   "cell_type": "code",
   "execution_count": 2,
   "metadata": {},
   "outputs": [],
   "source": [
    "path1 = '../Data/Pickle'\n",
    "path2 = '../Data/Example'\n",
    "path3 = './monday_exercise_1.ipynb'"
   ]
  },
  {
   "cell_type": "code",
   "execution_count": 8,
   "metadata": {},
   "outputs": [],
   "source": [
    "def tell_about_path(path):\n",
    "    \"\"\"\n",
    "    Create a function called tell_about_path() which takes a string.\n",
    "    The function returns\n",
    "    1) \"The path doesn't exist.\", if the path does not exist.\n",
    "    2) \"The path is a directory\", if the path indicates a directory\n",
    "    3) \"The path is a file\", if the path indicates a file.\n",
    "    \"\"\"\n",
    "    if os.path.exists(path):\n",
    "        if os.path.isdir(path):\n",
    "            return \"The path is a directory\"\n",
    "        elif os.path.isfile(path):\n",
    "            return \"The path is a file\"\n",
    "\n",
    "    else:\n",
    "        return \"The path doesn't exist.\""
   ]
  },
  {
   "cell_type": "code",
   "execution_count": 5,
   "metadata": {},
   "outputs": [
    {
     "data": {
      "text/plain": [
       "'The path is a directory'"
      ]
     },
     "execution_count": 5,
     "metadata": {},
     "output_type": "execute_result"
    }
   ],
   "source": [
    "tell_about_path(path1)"
   ]
  },
  {
   "cell_type": "code",
   "execution_count": 6,
   "metadata": {},
   "outputs": [
    {
     "data": {
      "text/plain": [
       "\"The path doesn't exist.\""
      ]
     },
     "execution_count": 6,
     "metadata": {},
     "output_type": "execute_result"
    }
   ],
   "source": [
    "tell_about_path(path2)"
   ]
  },
  {
   "cell_type": "code",
   "execution_count": 7,
   "metadata": {},
   "outputs": [
    {
     "data": {
      "text/plain": [
       "'The path is a file'"
      ]
     },
     "execution_count": 7,
     "metadata": {},
     "output_type": "execute_result"
    }
   ],
   "source": [
    "tell_about_path(path3)"
   ]
  },
  {
   "cell_type": "code",
   "execution_count": null,
   "metadata": {},
   "outputs": [],
   "source": []
  }
 ],
 "metadata": {
  "kernelspec": {
   "display_name": "base",
   "language": "python",
   "name": "python3"
  },
  "language_info": {
   "codemirror_mode": {
    "name": "ipython",
    "version": 3
   },
   "file_extension": ".py",
   "mimetype": "text/x-python",
   "name": "python",
   "nbconvert_exporter": "python",
   "pygments_lexer": "ipython3",
   "version": "3.11.3"
  },
  "orig_nbformat": 4
 },
 "nbformat": 4,
 "nbformat_minor": 2
}
