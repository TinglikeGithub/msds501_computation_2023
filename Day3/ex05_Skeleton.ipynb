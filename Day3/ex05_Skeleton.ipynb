{
 "cells": [
  {
   "attachments": {},
   "cell_type": "markdown",
   "metadata": {},
   "source": [
    "For a list of strings in a format of \"category-courseID\", complete class_dictionary() that creates a dictionary of \"category\":\"set of unique courseIDs\".\n",
    "\n",
    "- Ex. classes = [\"computation-MSDS597\",\"statistics-MSDS504\",\"computation-MSDS501\", \"computation-MSDS501\", \"statistics-MSDS504\"], class_dictionary(classes) returns {'computation': {'MSDS501', 'MSDS597'}, 'statistics': {'MSDS504'}}"
   ]
  },
  {
   "cell_type": "code",
   "execution_count": null,
   "metadata": {},
   "outputs": [],
   "source": [
    "def class_dictionary(classes):\n",
    "    "
   ]
  },
  {
   "cell_type": "code",
   "execution_count": null,
   "metadata": {},
   "outputs": [],
   "source": [
    "classes = [\"computation-MSDS597\",\n",
    "           \"statistics-MSDS504\", \n",
    "           \"computation-MSDS501\", \n",
    "           \"computation-MSDS501\", \n",
    "           \"statistics-MSDS504\"]\n",
    "class_dictionary(classes) #== {'computation': {'MSDS501', 'MSDS597'}, 'statistics': {'MSDS504'}}"
   ]
  },
  {
   "attachments": {},
   "cell_type": "markdown",
   "metadata": {},
   "source": [
    "From the created dictionary, return all the \"computation\" courses in a list"
   ]
  },
  {
   "cell_type": "code",
   "execution_count": null,
   "metadata": {},
   "outputs": [],
   "source": [
    "cl_list = list(class_dictionary(classes)[\"computation\"])\n",
    "cl_list.reverse()\n",
    "cl_list"
   ]
  },
  {
   "cell_type": "code",
   "execution_count": null,
   "metadata": {},
   "outputs": [],
   "source": []
  }
 ],
 "metadata": {
  "kernelspec": {
   "display_name": "base",
   "language": "python",
   "name": "python3"
  },
  "language_info": {
   "codemirror_mode": {
    "name": "ipython",
    "version": 3
   },
   "file_extension": ".py",
   "mimetype": "text/x-python",
   "name": "python",
   "nbconvert_exporter": "python",
   "pygments_lexer": "ipython3",
   "version": "3.11.3"
  },
  "orig_nbformat": 4
 },
 "nbformat": 4,
 "nbformat_minor": 2
}
