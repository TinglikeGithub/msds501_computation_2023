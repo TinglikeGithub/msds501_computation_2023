{
 "cells": [
  {
   "attachments": {},
   "cell_type": "markdown",
   "id": "2a98d0b4-168f-48ce-8267-29b54a8cf69f",
   "metadata": {},
   "source": [
    "## Salary Increase\n",
    "After completing each year, employees earn certain increase from the last year''s salary.\n",
    "For instance, increase_scale_sequence = [0.01, 0.02, 0.03] means that on one''s second year the person will get 1% increase from the base salary.\n",
    "On the third year, one will get 2% increase from the second year.\n",
    "\n",
    "One developed a function called yearly_salary() as below.\n",
    "What is the mistake the developer made and how would you fix it?"
   ]
  },
  {
   "cell_type": "code",
   "execution_count": null,
   "id": "b746b939-0030-425a-aa42-a7801a193c9d",
   "metadata": {},
   "outputs": [],
   "source": [
    "def yearly_salary(increase_scale_sequence, year, base):\n",
    "    for i in range(len(increase_scale_sequence)):\n",
    "        if i == 0:\n",
    "            increase_scale_sequence[i] = increase_scale_sequence[i] + 1\n",
    "        else:\n",
    "            increase_scale_sequence[i] = increase_scale_sequence[i-1] \\\n",
    "                                       * (increase_scale_sequence[i] + 1)\n",
    "    return increase_scale_sequence[year-2] * base"
   ]
  },
  {
   "cell_type": "code",
   "execution_count": null,
   "id": "5c5a5cee-3040-457c-9769-1b409c6b0610",
   "metadata": {},
   "outputs": [],
   "source": [
    "increase_scale_sequence = [0.01, 0.02, 0.03]\n",
    "yearly_salary(increase_scale_sequence, 3, 120)"
   ]
  },
  {
   "cell_type": "code",
   "execution_count": null,
   "id": "3235bcf1-3aa1-4386-95ee-714bfb32dd4c",
   "metadata": {},
   "outputs": [],
   "source": [
    "increase_scale_sequence"
   ]
  },
  {
   "attachments": {},
   "cell_type": "markdown",
   "id": "8f861902-2715-49be-bece-1c28c40e168f",
   "metadata": {
    "tags": []
   },
   "source": [
    "## How would you solve it?"
   ]
  },
  {
   "cell_type": "code",
   "execution_count": null,
   "id": "d6386fee-241b-46c6-88f6-795361f60e49",
   "metadata": {},
   "outputs": [],
   "source": [
    "def yearly_salary(increase_scale_sequence, year, base):\n"
   ]
  },
  {
   "cell_type": "code",
   "execution_count": null,
   "id": "736c79d4",
   "metadata": {},
   "outputs": [],
   "source": [
    "increase_scale_sequence = [0.01, 0.02, 0.03]\n",
    "yearly_salary(increase_scale_sequence, 3, 120)"
   ]
  },
  {
   "cell_type": "code",
   "execution_count": null,
   "id": "9d71e790",
   "metadata": {},
   "outputs": [],
   "source": [
    "increase_scale_sequence"
   ]
  },
  {
   "cell_type": "code",
   "execution_count": null,
   "id": "d1692a15",
   "metadata": {},
   "outputs": [],
   "source": []
  }
 ],
 "metadata": {
  "kernelspec": {
   "display_name": "Python 3 (ipykernel)",
   "language": "python",
   "name": "python3"
  },
  "language_info": {
   "codemirror_mode": {
    "name": "ipython",
    "version": 3
   },
   "file_extension": ".py",
   "mimetype": "text/x-python",
   "name": "python",
   "nbconvert_exporter": "python",
   "pygments_lexer": "ipython3",
   "version": "3.11.3"
  }
 },
 "nbformat": 4,
 "nbformat_minor": 5
}
